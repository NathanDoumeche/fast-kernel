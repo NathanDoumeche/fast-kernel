{
  "nbformat": 4,
  "nbformat_minor": 0,
  "metadata": {
    "colab": {
      "provenance": [],
      "gpuType": "T4",
      "collapsed_sections": [
        "1-TJJoewkuXZ",
        "ngSB6VE1a1Ug"
      ],
      "toc_visible": true
    },
    "kernelspec": {
      "name": "python3",
      "display_name": "Python 3"
    },
    "language_info": {
      "name": "python"
    },
    "accelerator": "GPU"
  },
  "cells": [
    {
      "cell_type": "code",
      "source": [
        "pip install cufinufft==2.4.0b1"
      ],
      "metadata": {
        "colab": {
          "base_uri": "https://localhost:8080/"
        },
        "id": "Duk-ktlQ03-I",
        "outputId": "9003e22d-40db-42d6-ac56-cbf4a8018d9c"
      },
      "execution_count": 1,
      "outputs": [
        {
          "output_type": "stream",
          "name": "stdout",
          "text": [
            "Collecting cufinufft==2.4.0b1\n",
            "  Downloading cufinufft-2.4.0b1-py3-none-manylinux_2_17_x86_64.manylinux2014_x86_64.whl.metadata (2.0 kB)\n",
            "Requirement already satisfied: numpy in /usr/local/lib/python3.12/dist-packages (from cufinufft==2.4.0b1) (2.0.2)\n",
            "Requirement already satisfied: packaging in /usr/local/lib/python3.12/dist-packages (from cufinufft==2.4.0b1) (25.0)\n",
            "Downloading cufinufft-2.4.0b1-py3-none-manylinux_2_17_x86_64.manylinux2014_x86_64.whl (53.4 MB)\n",
            "\u001b[2K   \u001b[90m━━━━━━━━━━━━━━━━━━━━━━━━━━━━━━━━━━━━━━━━\u001b[0m \u001b[32m53.4/53.4 MB\u001b[0m \u001b[31m9.4 MB/s\u001b[0m eta \u001b[36m0:00:00\u001b[0m\n",
            "\u001b[?25hInstalling collected packages: cufinufft\n",
            "Successfully installed cufinufft-2.4.0b1\n"
          ]
        }
      ]
    },
    {
      "cell_type": "code",
      "source": [
        "import torch\n",
        "import cupy as cp\n",
        "import cufinufft\n",
        "import numpy as np"
      ],
      "metadata": {
        "id": "XJYaaYvwksc1"
      },
      "execution_count": 2,
      "outputs": []
    },
    {
      "cell_type": "code",
      "source": [
        "device = torch.device(\"cuda:0\")\n",
        "torch.set_default_dtype(torch.float64)"
      ],
      "metadata": {
        "id": "5G7VTrsEktA5"
      },
      "execution_count": 3,
      "outputs": []
    },
    {
      "cell_type": "markdown",
      "source": [
        "# 1. Package"
      ],
      "metadata": {
        "id": "1-TJJoewkuXZ"
      }
    },
    {
      "cell_type": "code",
      "source": [
        "def conjugate_gradient(A_function, b, x0, tol=1e-10, display=True):\n",
        "    \"\"\"\n",
        "    Solves Ax = b using the Conjugate Gradient method.\n",
        "\n",
        "    Parameters:\n",
        "        A : function or matrix\n",
        "            Matrix or function that computes the product Ax.\n",
        "        b : ndarray\n",
        "            Right-hand side vector.\n",
        "        x0 : ndarray\n",
        "            Initial guess.\n",
        "        tol : float\n",
        "            Tolerance for the stopping criterion.\n",
        "        max_iter : int\n",
        "            Maximum number of iterations.\n",
        "\n",
        "    Returns:\n",
        "        x : ndarray\n",
        "            Approximate solution to Ax = b.\n",
        "    \"\"\"\n",
        "    m = b.shape[0]\n",
        "\n",
        "    x = x0\n",
        "    r = b - A_function(x)\n",
        "    p = r.clone()\n",
        "    rs_old = torch.linalg.vector_norm(r)**2\n",
        "\n",
        "    for i in range(3*m-2):#A cause de l'embedding pour avoir un circulant: on inverse Cx qui est de taille 3m\n",
        "        Ap = A_function(p)\n",
        "        alpha = rs_old / torch.vdot(p, Ap)\n",
        "        x = x + alpha * p\n",
        "        r = r - alpha * Ap\n",
        "        rs_new = torch.linalg.vector_norm(r)**2\n",
        "\n",
        "        if torch.sqrt(rs_new) < tol:\n",
        "          if display:\n",
        "            print(f\"CG converged in {i} iterations.\")\n",
        "          break\n",
        "        p = r + (rs_new / rs_old) * p\n",
        "        rs_old = rs_new\n",
        "    return x"
      ],
      "metadata": {
        "id": "geD-HShfkwZF"
      },
      "execution_count": 4,
      "outputs": []
    },
    {
      "cell_type": "code",
      "source": [
        "def NUFFT_Y(x_gpu, y_gpu, m, threshold):\n",
        "  n = x_gpu.shape[0]\n",
        "\n",
        "  f_gpu = cufinufft.nufft1d1(x_gpu, y_gpu, (2*m+1,), eps=threshold)/n\n",
        "\n",
        "  f_tensor = torch.utils.dlpack.from_dlpack(f_gpu)\n",
        "\n",
        "  return f_tensor"
      ],
      "metadata": {
        "id": "oFOpILSLkyT_"
      },
      "execution_count": 5,
      "outputs": []
    },
    {
      "cell_type": "code",
      "source": [
        "def kernel_vect(x1_gpu, x2_gpu, m, threshold):\n",
        "  n = x1_gpu.shape[0]\n",
        "  y_gpu = cp.ones(n).astype(cp.complex128)\n",
        "\n",
        "  f_gpu = cufinufft.nufft2d1(x1_gpu, x2_gpu, y_gpu, (2*m+1,2*m+1), eps=threshold)/n#[2*m:, 2*m:]/n\n",
        "  f_tensor = torch.utils.dlpack.from_dlpack(f_gpu)\n",
        "\n",
        "  return f_tensor"
      ],
      "metadata": {
        "id": "otOv_qs4m9GP"
      },
      "execution_count": 6,
      "outputs": []
    },
    {
      "cell_type": "code",
      "source": [
        "def A_function(x, lambda_n, mat):\n",
        "  return mat@ x + lambda_n * x"
      ],
      "metadata": {
        "id": "6a62NwDcoMEs"
      },
      "execution_count": 7,
      "outputs": []
    },
    {
      "cell_type": "code",
      "source": [
        "def NUFFT_inv(x_gpu, f_gpu, threshold):\n",
        "\n",
        "  y_estimated = cufinufft.nufft1d2(x_gpu, f_gpu, eps=threshold)\n",
        "\n",
        "  y_estimated = torch.utils.dlpack.from_dlpack(y_estimated)\n",
        "\n",
        "  return y_estimated"
      ],
      "metadata": {
        "id": "ygFSID_Zq9yv"
      },
      "execution_count": 8,
      "outputs": []
    },
    {
      "cell_type": "markdown",
      "source": [
        "# 2. Experiments"
      ],
      "metadata": {
        "id": "bLlGKohsk3ce"
      }
    },
    {
      "cell_type": "code",
      "source": [
        "cp.random.seed(seed=1)\n",
        "torch.manual_seed(1)\n",
        "\n",
        "d = 5\n",
        "s = 2\n",
        "\n",
        "err_N, list_N, time_N = np.array([]), np.array([]), np.array([])\n",
        "\n",
        "for i in range(1, 17):\n",
        "  print(\"i = \", i)\n",
        "\n",
        "  N = int(10**(i/2))\n",
        "\n",
        "  x_gpu = cp.random.uniform(size=(d, N), dtype=cp.float64)\n",
        "  f_gpu = cp.zeros(N, dtype=cp.float64)\n",
        "  for i in range(d):\n",
        "    f_gpu += cp.exp(x_gpu[i]/(i+1)) - 1\n",
        "  y_gpu =  f_gpu.astype(cp.complex128) + cp.random.normal(size=N).astype(cp.complex128)\n",
        "\n",
        "\n",
        "  lambda_n=N**(-(2*s)/(2*s+1))\n",
        "\n",
        "  threshold = lambda_n/10\n",
        "\n",
        "  m = 1+int(N**(1/(2*s+1))/d)\n",
        "  M = 2*m+1\n",
        "\n",
        "  torch.cuda.synchronize()\n",
        "  start_event = torch.cuda.Event(enable_timing=True)\n",
        "  end_event = torch.cuda.Event(enable_timing=True)\n",
        "  start_event.record()\n",
        "\n",
        "  cov_y = torch.empty(d * M, dtype=torch.complex128, device=device)\n",
        "  for i in range(d):\n",
        "    cov_y[i*M:(i+1)*M] = NUFFT_Y(x_gpu[i], y_gpu, m, threshold)\n",
        "\n",
        "  cov_x = torch.empty((d * M, d * M), dtype=torch.complex128, device=device)\n",
        "\n",
        "  for i1 in range(d):\n",
        "      for i2 in range(i1, d):\n",
        "          cov_x[i1*M:(i1+1)*M, i2*M:(i2+1)*M] = kernel_vect(x_gpu[i1], -x_gpu[i2], m, threshold)\n",
        "\n",
        "          if i1 != i2:\n",
        "              # Assign Hermitian symmetric block (i2, i1)\n",
        "              cov_x[i2*M:(i2+1)*M, i1*M:(i1+1)*M] = (cov_x[i1*M:(i1+1)*M, i2*M:(i2+1)*M]).conj().T\n",
        "\n",
        "\n",
        "  A_funct = lambda x: A_function(x, lambda_n, cov_x)\n",
        "\n",
        "  hat_theta = conjugate_gradient(A_funct, cov_y, cov_y, threshold)\n",
        "  print(\"Error CG \", torch.linalg.norm(A_funct(hat_theta) - cov_y))\n",
        "\n",
        "  end_event.record()\n",
        "  torch.cuda.synchronize()\n",
        "  time_N = np.append(time_N,start_event.elapsed_time(end_event)/10**3)\n",
        "\n",
        "  N_test = 10**4\n",
        "  x_test = cp.random.uniform(size=(d, N_test), dtype=cp.float64)\n",
        "  f_test = cp.zeros(N_test, dtype=cp.float64)\n",
        "\n",
        "  for i in range(d):\n",
        "    f_test += cp.exp(x_test[i]/(i+1)) - 1\n",
        "  y_test =  f_test.astype(cp.complex128)\n",
        "\n",
        "  estimator = cp.zeros(N_test, dtype=cp.float64)\n",
        "\n",
        "  for i in range(d):\n",
        "    estimator += torch.real(NUFFT_inv(x_test[i], hat_theta[(2*m+1)*i:(2*m+1)*(i+1)], threshold))\n",
        "\n",
        "  error = torch.tensor((estimator-y_test).get(), dtype=torch.float64)\n",
        "  mse = torch.mean(torch.square(torch.abs(error)))\n",
        "\n",
        "  list_N = np.append(list_N, N)\n",
        "  err_N = np.append(err_N, mse)"
      ],
      "metadata": {
        "colab": {
          "base_uri": "https://localhost:8080/"
        },
        "id": "Wz5AHeQPlPQb",
        "outputId": "e38683bc-91e1-4fb9-b7b0-76f9136d908c"
      },
      "execution_count": 11,
      "outputs": [
        {
          "output_type": "stream",
          "name": "stdout",
          "text": [
            "i =  1\n",
            "CG converged in 1 iterations.\n",
            "Error CG  tensor(0.0142, device='cuda:0')\n",
            "i =  2\n",
            "CG converged in 2 iterations.\n",
            "Error CG  tensor(0.0088, device='cuda:0')\n",
            "i =  3\n",
            "CG converged in 4 iterations.\n",
            "Error CG  tensor(0.0015, device='cuda:0')\n",
            "i =  4\n",
            "CG converged in 4 iterations.\n",
            "Error CG  tensor(0.0018, device='cuda:0')\n",
            "i =  5\n",
            "CG converged in 6 iterations.\n",
            "Error CG  tensor(0.0002, device='cuda:0')\n",
            "i =  6\n",
            "CG converged in 6 iterations.\n",
            "Error CG  tensor(0.0003, device='cuda:0')\n",
            "i =  7\n",
            "CG converged in 10 iterations.\n",
            "Error CG  tensor(2.1567e-05, device='cuda:0')\n",
            "i =  8\n",
            "CG converged in 11 iterations.\n",
            "Error CG  tensor(5.9145e-06, device='cuda:0')\n",
            "i =  9\n",
            "CG converged in 10 iterations.\n",
            "Error CG  tensor(1.2914e-05, device='cuda:0')\n",
            "i =  10\n",
            "CG converged in 15 iterations.\n",
            "Error CG  tensor(2.0530e-06, device='cuda:0')\n",
            "i =  11\n",
            "CG converged in 15 iterations.\n",
            "Error CG  tensor(1.2232e-06, device='cuda:0')\n",
            "i =  12\n",
            "CG converged in 30 iterations.\n",
            "Error CG  tensor(7.3845e-07, device='cuda:0')\n",
            "i =  13\n",
            "CG converged in 24 iterations.\n",
            "Error CG  tensor(3.2411e-07, device='cuda:0')\n",
            "i =  14\n",
            "CG converged in 34 iterations.\n",
            "Error CG  tensor(1.4549e-07, device='cuda:0')\n",
            "i =  15\n",
            "CG converged in 45 iterations.\n",
            "Error CG  tensor(6.0642e-09, device='cuda:0')\n",
            "i =  16\n",
            "CG converged in 48 iterations.\n",
            "Error CG  tensor(3.0956e-08, device='cuda:0')\n"
          ]
        }
      ]
    },
    {
      "cell_type": "code",
      "source": [
        "with open('results_weakl_gpu.npy', 'wb') as f:\n",
        "    np.save(f, list_N)\n",
        "    np.save(f, err_N)\n",
        "    np.save(f, time_N)"
      ],
      "metadata": {
        "id": "Auy-i3F9iiON"
      },
      "execution_count": 12,
      "outputs": []
    },
    {
      "cell_type": "code",
      "source": [
        "import matplotlib.pyplot as plt\n",
        "\n",
        "plt.scatter(list_N, err_N)\n",
        "plt.xscale('log')\n",
        "plt.yscale('log')\n",
        "plt.xlabel(\"Number of points\")\n",
        "plt.ylabel(\"MSE\")\n",
        "\n",
        "plt.savefig('Additive.pdf')"
      ],
      "metadata": {
        "colab": {
          "base_uri": "https://localhost:8080/",
          "height": 454
        },
        "id": "sxVTFqbQk_rx",
        "outputId": "a6b902b0-f701-4acd-a665-6ca196ed6553"
      },
      "execution_count": 13,
      "outputs": [
        {
          "output_type": "display_data",
          "data": {
            "text/plain": [
              "<Figure size 640x480 with 1 Axes>"
            ],
            "image/png": "[encoded data removed]"
          },
          "metadata": {}
        }
      ]
    },
    {
      "cell_type": "code",
      "source": [
        "plt.scatter(list_N, time_N)\n",
        "plt.xscale('log')\n",
        "plt.yscale('log')\n",
        "plt.xlabel(\"Number of points\")\n",
        "plt.ylabel(\"Run time\")\n",
        "plt.show()"
      ],
      "metadata": {
        "colab": {
          "base_uri": "https://localhost:8080/",
          "height": 454
        },
        "id": "eZK0lTlekLre",
        "outputId": "e5e8765b-f009-4ad7-b88a-729538592b4c"
      },
      "execution_count": 14,
      "outputs": [
        {
          "output_type": "display_data",
          "data": {
            "text/plain": [
              "<Figure size 640x480 with 1 Axes>"
            ],
            "image/png": "[encoded data removed]"
          },
          "metadata": {}
        }
      ]
    },
    {
      "cell_type": "markdown",
      "source": [
        "# 3- Comparison with PyGAM"
      ],
      "metadata": {
        "id": "e2gwXOnNdUmm"
      }
    },
    {
      "cell_type": "markdown",
      "source": [
        "## 3.1- PyGAM"
      ],
      "metadata": {
        "id": "EwBmATu1nPlS"
      }
    },
    {
      "cell_type": "code",
      "source": [
        "pip install pygam"
      ],
      "metadata": {
        "colab": {
          "base_uri": "https://localhost:8080/"
        },
        "id": "yQwIv-GBdi61",
        "outputId": "36fc7439-1d91-4ea8-8e4b-e361ef9b24da"
      },
      "execution_count": 15,
      "outputs": [
        {
          "output_type": "stream",
          "name": "stdout",
          "text": [
            "Collecting pygam\n",
            "  Downloading pygam-0.10.1-py3-none-any.whl.metadata (9.7 kB)\n",
            "Requirement already satisfied: numpy>=1.5.0 in /usr/local/lib/python3.12/dist-packages (from pygam) (2.0.2)\n",
            "Requirement already satisfied: progressbar2<5,>=4.2.0 in /usr/local/lib/python3.12/dist-packages (from pygam) (4.5.0)\n",
            "Requirement already satisfied: scipy<1.17,>=1.11.1 in /usr/local/lib/python3.12/dist-packages (from pygam) (1.16.1)\n",
            "Requirement already satisfied: python-utils>=3.8.1 in /usr/local/lib/python3.12/dist-packages (from progressbar2<5,>=4.2.0->pygam) (3.9.1)\n",
            "Requirement already satisfied: typing_extensions>3.10.0.2 in /usr/local/lib/python3.12/dist-packages (from python-utils>=3.8.1->progressbar2<5,>=4.2.0->pygam) (4.14.1)\n",
            "Downloading pygam-0.10.1-py3-none-any.whl (80 kB)\n",
            "\u001b[?25l   \u001b[90m━━━━━━━━━━━━━━━━━━━━━━━━━━━━━━━━━━━━━━━━\u001b[0m \u001b[32m0.0/80.2 kB\u001b[0m \u001b[31m?\u001b[0m eta \u001b[36m-:--:--\u001b[0m\r\u001b[2K   \u001b[90m━━━━━━━━━━━━━━━━━━━━━━━━━━━━━━━━━━━━━━━━\u001b[0m \u001b[32m80.2/80.2 kB\u001b[0m \u001b[31m7.4 MB/s\u001b[0m eta \u001b[36m0:00:00\u001b[0m\n",
            "\u001b[?25hInstalling collected packages: pygam\n",
            "Successfully installed pygam-0.10.1\n"
          ]
        }
      ]
    },
    {
      "cell_type": "code",
      "source": [
        "from pygam import LinearGAM, s\n",
        "import numpy as np\n",
        "import time\n",
        "\n",
        "np.random.seed(42)\n",
        "n_pygam = [int(10**(i/2)) for i in range(2, 14) ]\n",
        "time_pygam = []\n",
        "perf_pygam = []\n",
        "N_test = 10**4\n",
        "d = 5\n",
        "smoothness = 2\n",
        "\n",
        "for n in n_pygam:\n",
        "  print(\"n = \", n)\n",
        "  X = np.random.rand(n, d)\n",
        "  y = np.zeros(n)\n",
        "  for i in range(d):\n",
        "    y += np.exp(X[:, i]/(i+1)) - 1\n",
        "  y += np.random.randn(n)\n",
        "\n",
        "  lambda_n=n**(-(2*smoothness)/(2*smoothness+1))\n",
        "  m = 1+int(n**(1/(2*smoothness+1))/d)\n",
        "  M = max(4,2*m+1)\n",
        "\n",
        "  # Set up the model with 5 univariate spline terms\n",
        "  # 10 splines per term, and lambda = 0.001 for each\n",
        "  gam = LinearGAM(\n",
        "      s(0, n_splines=M) +\n",
        "      s(1, n_splines=M) +\n",
        "      s(2, n_splines=M) +\n",
        "      s(3, n_splines=M) +\n",
        "      s(4, n_splines=M),\n",
        "      lam=[lambda_n]*5\n",
        "  )\n",
        "\n",
        "  # Fit the model\n",
        "  start = time.time()\n",
        "  gam.fit(X, y)\n",
        "  end = time.time()\n",
        "  time_pygam.append(end-start)\n",
        "\n",
        "  # Test\n",
        "  X_test = np.random.rand(N_test, d)\n",
        "  y_test = np.zeros(N_test)\n",
        "  for i in range(d):\n",
        "    y_test += np.exp(X_test[:, i]/(i+1)) - 1\n",
        "  y_pred = gam.predict(X_test)\n",
        "\n",
        "  mse = np.mean(np.square(y_pred - y_test))\n",
        "  perf_pygam.append(mse)"
      ],
      "metadata": {
        "colab": {
          "base_uri": "https://localhost:8080/"
        },
        "id": "cd434CL7dZmT",
        "outputId": "eb96bed0-8808-44bc-a7cf-ebec1f296d89"
      },
      "execution_count": 16,
      "outputs": [
        {
          "output_type": "stream",
          "name": "stdout",
          "text": [
            "n =  10\n",
            "n =  31\n",
            "n =  100\n",
            "n =  316\n",
            "n =  1000\n",
            "n =  3162\n",
            "n =  10000\n",
            "n =  31622\n",
            "n =  100000\n",
            "n =  316227\n",
            "n =  1000000\n",
            "n =  3162277\n"
          ]
        }
      ]
    },
    {
      "cell_type": "markdown",
      "source": [
        "Memory overload at $N = 10^7$."
      ],
      "metadata": {
        "id": "0gFOblAKmloY"
      }
    },
    {
      "cell_type": "code",
      "source": [
        "with open('results_pygam.npy', 'wb') as f:\n",
        "    np.save(f, n_pygam)\n",
        "    np.save(f, time_pygam)\n",
        "    np.save(f, perf_pygam)"
      ],
      "metadata": {
        "id": "ASppdr-Eho65"
      },
      "execution_count": 17,
      "outputs": []
    },
    {
      "cell_type": "markdown",
      "source": [
        "## 3.2 CPU kernel"
      ],
      "metadata": {
        "id": "sG3SFq1QnYLR"
      }
    },
    {
      "cell_type": "code",
      "source": [
        "pip install finufft"
      ],
      "metadata": {
        "colab": {
          "base_uri": "https://localhost:8080/"
        },
        "id": "qjAsk4JzoZLm",
        "outputId": "fe868019-dbc7-43d3-abf1-2840e8a3a2d9"
      },
      "execution_count": 18,
      "outputs": [
        {
          "output_type": "stream",
          "name": "stdout",
          "text": [
            "Collecting finufft\n",
            "  Downloading finufft-2.4.1-py3-none-manylinux_2_28_x86_64.whl.metadata (1.7 kB)\n",
            "Requirement already satisfied: numpy>=1.12.0 in /usr/local/lib/python3.12/dist-packages (from finufft) (2.0.2)\n",
            "Requirement already satisfied: packaging in /usr/local/lib/python3.12/dist-packages (from finufft) (25.0)\n",
            "Downloading finufft-2.4.1-py3-none-manylinux_2_28_x86_64.whl (3.4 MB)\n",
            "\u001b[?25l   \u001b[90m━━━━━━━━━━━━━━━━━━━━━━━━━━━━━━━━━━━━━━━━\u001b[0m \u001b[32m0.0/3.4 MB\u001b[0m \u001b[31m?\u001b[0m eta \u001b[36m-:--:--\u001b[0m\r\u001b[2K   \u001b[91m━━━━━━━━━━━━\u001b[0m\u001b[90m╺\u001b[0m\u001b[90m━━━━━━━━━━━━━━━━━━━━━━━━━━━\u001b[0m \u001b[32m1.0/3.4 MB\u001b[0m \u001b[31m123.3 MB/s\u001b[0m eta \u001b[36m0:00:01\u001b[0m\r\u001b[2K   \u001b[91m━━━━━━━━━━━━━━━━━━━━━━━━━━━━━━━━━━━━━━━\u001b[0m\u001b[91m╸\u001b[0m \u001b[32m3.4/3.4 MB\u001b[0m \u001b[31m57.2 MB/s\u001b[0m eta \u001b[36m0:00:01\u001b[0m\r\u001b[2K   \u001b[90m━━━━━━━━━━━━━━━━━━━━━━━━━━━━━━━━━━━━━━━━\u001b[0m \u001b[32m3.4/3.4 MB\u001b[0m \u001b[31m42.9 MB/s\u001b[0m eta \u001b[36m0:00:00\u001b[0m\n",
            "\u001b[?25hInstalling collected packages: finufft\n",
            "Successfully installed finufft-2.4.1\n"
          ]
        }
      ]
    },
    {
      "cell_type": "code",
      "source": [
        "import finufft\n",
        "def kernel_vect_cpu(x1_gpu, x2_gpu, m, threshold):\n",
        "  n = x1_gpu.size\n",
        "  y_gpu = np.ones(n).astype(np.complex128)\n",
        "\n",
        "  f = finufft.nufft2d1(x1_gpu, x2_gpu, y_gpu, (2*m+1,2*m+1), eps=threshold)/n\n",
        "\n",
        "  return f\n",
        "\n",
        "def NUFFT_Y_cpu(x_gpu, y_gpu, m, threshold):\n",
        "  n = x_gpu.size\n",
        "\n",
        "  f = finufft.nufft1d1(x_gpu, y_gpu, (2*m+1,), eps=threshold)/n\n",
        "\n",
        "  return f\n",
        "\n",
        "\n",
        "def conjugate_gradient_cpu(A_function, b, x0, tol=1e-10, display=True):\n",
        "    \"\"\"\n",
        "    Solves Ax = b using the Conjugate Gradient method.\n",
        "\n",
        "    Parameters:\n",
        "        A : function or matrix\n",
        "            Matrix or function that computes the product Ax.\n",
        "        b : ndarray\n",
        "            Right-hand side vector.\n",
        "        x0 : ndarray\n",
        "            Initial guess.\n",
        "        tol : float\n",
        "            Tolerance for the stopping criterion.\n",
        "        max_iter : int\n",
        "            Maximum number of iterations.\n",
        "\n",
        "    Returns:\n",
        "        x : ndarray\n",
        "            Approximate solution to Ax = b.\n",
        "    \"\"\"\n",
        "    m = b.shape[0]\n",
        "\n",
        "    x = x0\n",
        "    r = b - A_function(x)\n",
        "    p = r.copy()\n",
        "    rs_old = np.linalg.norm(r)**2\n",
        "\n",
        "    for i in range(3*m-2):#A cause de l'embedding pour avoir un circulant: on inverse Cx qui est de taille 3m\n",
        "        Ap = A_function(p)\n",
        "        alpha = rs_old / np.vdot(p, Ap)\n",
        "        x = x + alpha * p\n",
        "        r = r - alpha * Ap\n",
        "        rs_new = np.linalg.norm(r)**2\n",
        "\n",
        "        if np.sqrt(rs_new) < tol:\n",
        "          if display:\n",
        "            print(f\"CG converged in {i} iterations.\")\n",
        "          break\n",
        "        p = r + (rs_new / rs_old) * p\n",
        "        rs_old = rs_new\n",
        "    return x\n",
        "\n",
        "def NUFFT_inv_cpu(x_gpu, f_gpu, threshold):\n",
        "\n",
        "  y_estimated = finufft.nufft1d2(x_gpu, f_gpu, eps=threshold)\n",
        "\n",
        "  return y_estimated"
      ],
      "metadata": {
        "id": "wPrn6TujoR4c"
      },
      "execution_count": 19,
      "outputs": []
    },
    {
      "cell_type": "code",
      "source": [
        "import time\n",
        "np.random.seed(42)\n",
        "\n",
        "d = 5\n",
        "s = 2\n",
        "\n",
        "perf_cpu, n_cpu, time_cpu = np.array([]), np.array([]), np.array([])\n",
        "\n",
        "for i in range(1, 17):\n",
        "  print(\"i = \", i)\n",
        "\n",
        "  N = int(10**(i/2))\n",
        "\n",
        "  x_gpu = np.random.uniform(size=(d, N))\n",
        "  f_gpu = np.zeros(N)\n",
        "  for i in range(d):\n",
        "    f_gpu += np.exp(x_gpu[i]/(i+1)) - 1\n",
        "  y_gpu =  (f_gpu + np.random.normal(size=N)).astype(np.complex128)\n",
        "\n",
        "\n",
        "  lambda_n=N**(-(2*s)/(2*s+1))\n",
        "  m = 1+ int(N**(1/(2*s+1))/d)\n",
        "  M = 2*m+1\n",
        "  threshold = lambda_n/10\n",
        "\n",
        "\n",
        "  start = time.time()\n",
        "\n",
        "  cov_y = np.empty(d * M,  dtype=np.complex128)\n",
        "  for i in range(d):\n",
        "    cov_y[i*M:(i+1)*M] = NUFFT_Y_cpu(x_gpu[i], y_gpu, m, threshold)\n",
        "\n",
        "  cov_x = np.empty((d * M, d * M),  dtype=np.complex128)\n",
        "\n",
        "  for i1 in range(d):\n",
        "      for i2 in range(i1, d):\n",
        "          cov_x[i1*M:(i1+1)*M, i2*M:(i2+1)*M] = kernel_vect_cpu(x_gpu[i1], -x_gpu[i2], m, threshold)\n",
        "\n",
        "          if i1 != i2:\n",
        "              # Assign Hermitian symmetric block (i2, i1)\n",
        "              cov_x[i2*M:(i2+1)*M, i1*M:(i1+1)*M] = (cov_x[i1*M:(i1+1)*M, i2*M:(i2+1)*M]).conj().T\n",
        "\n",
        "  A_funct = lambda x: A_function(x, lambda_n, cov_x)\n",
        "\n",
        "  hat_theta = conjugate_gradient_cpu(A_funct, cov_y, cov_y, threshold).astype(np.complex128)\n",
        "  print(\"Error CG \", np.linalg.norm(A_funct(hat_theta) - cov_y))\n",
        "\n",
        "  end = time.time()\n",
        "  time_cpu = np.append(time_cpu, end-start)\n",
        "\n",
        "  N_test = 10**4\n",
        "  x_test = np.random.uniform(size=(d, N_test))\n",
        "  f_test = np.zeros(N_test)\n",
        "\n",
        "  for i in range(d):\n",
        "    f_test += np.exp(x_test[i]/(i+1)) - 1\n",
        "  y_test =  f_test.astype(np.complex128)\n",
        "\n",
        "  estimator = np.zeros(N_test)\n",
        "\n",
        "  for i in range(d):\n",
        "    estimator += np.real(NUFFT_inv_cpu(x_test[i], hat_theta[(2*m+1)*i:(2*m+1)*(i+1)], threshold))\n",
        "\n",
        "  error = estimator-y_test\n",
        "  mse = np.mean(np.square(np.abs(error)))\n",
        "\n",
        "\n",
        "  n_cpu = np.append(n_cpu, N)\n",
        "  perf_cpu = np.append(perf_cpu, mse)"
      ],
      "metadata": {
        "colab": {
          "base_uri": "https://localhost:8080/"
        },
        "id": "HkshfrhunaAR",
        "outputId": "1668c6fe-c702-4527-9232-a5d9d3fa4fa4"
      },
      "execution_count": 20,
      "outputs": [
        {
          "output_type": "stream",
          "name": "stdout",
          "text": [
            "i =  1\n",
            "CG converged in 1 iterations.\n",
            "Error CG  0.00256168783885033\n",
            "i =  2\n",
            "CG converged in 2 iterations.\n",
            "Error CG  0.005295337629061095\n",
            "i =  3\n",
            "CG converged in 4 iterations.\n",
            "Error CG  0.003319984941882855\n",
            "i =  4\n",
            "CG converged in 4 iterations.\n",
            "Error CG  0.00033924730721735023\n",
            "i =  5\n",
            "CG converged in 6 iterations.\n",
            "Error CG  0.000172465796778723\n",
            "i =  6\n",
            "CG converged in 7 iterations.\n",
            "Error CG  0.00015749933287393042\n",
            "i =  7\n",
            "CG converged in 10 iterations.\n",
            "Error CG  7.633151299386586e-05\n",
            "i =  8\n",
            "CG converged in 11 iterations.\n",
            "Error CG  3.829655855485231e-06\n",
            "i =  9\n",
            "CG converged in 11 iterations.\n",
            "Error CG  5.198120195574016e-06\n",
            "i =  10\n",
            "CG converged in 15 iterations.\n",
            "Error CG  1.3058578680000675e-06\n",
            "i =  11\n",
            "CG converged in 15 iterations.\n",
            "Error CG  1.597498963226106e-06\n",
            "i =  12\n",
            "CG converged in 24 iterations.\n",
            "Error CG  1.4466569348200125e-06\n",
            "i =  13\n",
            "CG converged in 28 iterations.\n",
            "Error CG  5.403071380604758e-07\n",
            "i =  14\n",
            "CG converged in 33 iterations.\n",
            "Error CG  1.4145608214797922e-07\n",
            "i =  15\n",
            "CG converged in 47 iterations.\n",
            "Error CG  1.781437481338397e-08\n",
            "i =  16\n",
            "CG converged in 49 iterations.\n",
            "Error CG  3.7600014498433504e-08\n"
          ]
        }
      ]
    },
    {
      "cell_type": "code",
      "source": [
        "with open('results_kernel_cpu.npy', 'wb') as f:\n",
        "    np.save(f, n_cpu)\n",
        "    np.save(f, time_cpu)\n",
        "    np.save(f, perf_cpu)"
      ],
      "metadata": {
        "id": "jCgxnIWJrkFa"
      },
      "execution_count": 21,
      "outputs": []
    },
    {
      "cell_type": "markdown",
      "source": [
        "## 3.3 Plots"
      ],
      "metadata": {
        "id": "dgPYk8fmnWZJ"
      }
    },
    {
      "cell_type": "code",
      "source": [
        "with open('results_weakl_gpu.npy', 'rb') as f:\n",
        "    n_gpu = np.load(f)\n",
        "    perf_gpu = np.load(f)\n",
        "    time_gpu = np.load(f)\n",
        "\n",
        "with open('results_kernel_cpu.npy', 'rb') as f:\n",
        "    n_cpu = np.load(f)\n",
        "    time_cpu = np.load(f)\n",
        "    perf_cpu = np.load(f)"
      ],
      "metadata": {
        "id": "bffOgjN1nV20"
      },
      "execution_count": 22,
      "outputs": []
    },
    {
      "cell_type": "code",
      "source": [
        "import matplotlib.pyplot as plt\n",
        "import matplotlib.cm as cm\n",
        "\n",
        "colors = [cm.gray(x) for x in np.linspace(0, 0.7, 3)]\n",
        "\n",
        "plt.plot(n_pygam, time_pygam, label=\"PyGAM\", color=colors[0])\n",
        "plt.plot(n_gpu[1:], time_gpu[1:], linestyle = \"--\", label=\"GPU kernel\", color=colors[1])\n",
        "plt.plot(n_cpu[1:], time_cpu[1:],  label=\"CPU kernel\", color=colors[2])\n",
        "plt.xscale('log')\n",
        "plt.yscale('log')\n",
        "plt.legend()\n",
        "plt.xlabel(\"n\")\n",
        "plt.ylabel(\"Running time (s)\")\n",
        "plt.savefig('Additive-runtime.pdf')\n",
        "plt.show()\n",
        "\n",
        "plt.plot(n_pygam, perf_pygam, label=\"PyGAM\", color=colors[0])\n",
        "plt.plot(n_gpu[1:], perf_gpu[1:], linestyle = \"--\", label=\"GPU kernel\", color=colors[1])\n",
        "plt.plot(n_cpu[1:], perf_cpu[1:],  label=\"CPU kernel\", color=colors[2])\n",
        "plt.xscale('log')\n",
        "plt.yscale('log')\n",
        "plt.legend()\n",
        "plt.ylabel(\"MSE\")\n",
        "plt.xlabel(\"n\")\n",
        "plt.savefig('Additive-perf.pdf')\n",
        "plt.show()"
      ],
      "metadata": {
        "colab": {
          "base_uri": "https://localhost:8080/",
          "height": 891
        },
        "id": "V2e5_F-KgR0E",
        "outputId": "9de8df88-ea52-452a-988d-e5aa9854b583"
      },
      "execution_count": 30,
      "outputs": [
        {
          "output_type": "display_data",
          "data": {
            "text/plain": [
              "<Figure size 640x480 with 1 Axes>"
            ],
            "image/png": "[encoded data removed]"
          },
          "metadata": {}
        },
        {
          "output_type": "display_data",
          "data": {
            "text/plain": [
              "<Figure size 640x480 with 1 Axes>"
            ],
            "image/png": "[encoded data removed]"
          },
          "metadata": {}
        }
      ]
    },
    {
      "cell_type": "code",
      "source": [
        "plt.scatter(n_gpu[1:], time_cpu[1:]/time_gpu[1:])\n",
        "plt.xscale('log')\n",
        "plt.savefig('GPU-speedup.pdf')\n",
        "plt.show()"
      ],
      "metadata": {
        "colab": {
          "base_uri": "https://localhost:8080/",
          "height": 434
        },
        "id": "7DW1u12I6lbF",
        "outputId": "0004b278-f605-46d6-e994-e5326c5a0db5"
      },
      "execution_count": 31,
      "outputs": [
        {
          "output_type": "display_data",
          "data": {
            "text/plain": [
              "<Figure size 640x480 with 1 Axes>"
            ],
            "image/png": "[encoded data removed]"
          },
          "metadata": {}
        }
      ]
    },
    {
      "cell_type": "markdown",
      "source": [
        "#4 - Grid search"
      ],
      "metadata": {
        "id": "Lbp1DaMm6mZo"
      }
    },
    {
      "cell_type": "markdown",
      "source": [
        "## 4.1 - GPU kernel"
      ],
      "metadata": {
        "id": "CNOow9Is6n45"
      }
    },
    {
      "cell_type": "code",
      "source": [
        "cp.random.seed(seed=1)\n",
        "torch.manual_seed(1)\n",
        "\n",
        "d = 5\n",
        "s = 2\n",
        "\n",
        "err_N, list_N, time_N = np.array([]), np.array([]), np.array([])\n",
        "lambda_N_list = [10**(-i/10) for i in range(300)]\n",
        "\n",
        "for i in range(1, 17):#17):\n",
        "  print(\"i = \", i)\n",
        "\n",
        "  ##### Training data\n",
        "  N = int(10**(i/2))\n",
        "\n",
        "  x_gpu = cp.random.uniform(size=(d, N), dtype=cp.float64)\n",
        "  f_gpu = cp.zeros(N, dtype=cp.float64)\n",
        "  for i in range(d):\n",
        "    f_gpu += cp.exp(x_gpu[i]/(i+1)) - 1\n",
        "  y_gpu =  f_gpu.astype(cp.complex128) + cp.random.normal(size=N).astype(cp.complex128)\n",
        "\n",
        "  threshold = N**(-2*s/(2*s+1))/10\n",
        "\n",
        "  m = 1+int(N**(1/(2*s+1))/d)\n",
        "  M = 2*m+1\n",
        "\n",
        "  ##### Validation data\n",
        "  N_val = min(N, 10**4)\n",
        "  x_val = cp.random.uniform(size=(d, N_val), dtype=cp.float64)\n",
        "  f_val = cp.zeros(N_val, dtype=cp.float64)\n",
        "  for i in range(d):\n",
        "    f_val += cp.exp(x_val[i]/(i+1)) - 1\n",
        "  y_val =  f_val.astype(cp.complex128) + cp.random.normal(size=N_val).astype(cp.complex128)\n",
        "  err_val = torch.inf\n",
        "\n",
        "  ##### Fitting\n",
        "  torch.cuda.synchronize()\n",
        "  start_event = torch.cuda.Event(enable_timing=True)\n",
        "  end_event = torch.cuda.Event(enable_timing=True)\n",
        "  start_event.record()\n",
        "\n",
        "  cov_y = torch.empty(d * M, dtype=torch.complex128, device=device)\n",
        "  for i in range(d):\n",
        "    cov_y[i*M:(i+1)*M] = NUFFT_Y(x_gpu[i], y_gpu, m, threshold)\n",
        "\n",
        "  cov_x = torch.empty((d * M, d * M), dtype=torch.complex128, device=device)\n",
        "\n",
        "  for i1 in range(d):\n",
        "      for i2 in range(i1, d):\n",
        "          cov_x[i1*M:(i1+1)*M, i2*M:(i2+1)*M] = kernel_vect(x_gpu[i1], -x_gpu[i2], m, threshold)\n",
        "\n",
        "          if i1 != i2:\n",
        "              # Assign Hermitian symmetric block (i2, i1)\n",
        "              cov_x[i2*M:(i2+1)*M, i1*M:(i1+1)*M] = (cov_x[i1*M:(i1+1)*M, i2*M:(i2+1)*M]).conj().T\n",
        "\n",
        "\n",
        "  for lambda_n in lambda_N_list:\n",
        "    A_funct = lambda x: A_function(x, lambda_n, cov_x)\n",
        "\n",
        "    if lambda_n == lambda_N_list[0]:\n",
        "      hat_theta = conjugate_gradient(A_funct, cov_y, cov_y, threshold, display=False)\n",
        "      hat_theta_last = hat_theta\n",
        "    else:\n",
        "      hat_theta = conjugate_gradient(A_funct, cov_y, hat_theta_last, threshold, display=False)\n",
        "      hat_theta_last = hat_theta\n",
        "    #print(\"Error CG \", torch.linalg.norm(A_funct(hat_theta) - cov_y))\n",
        "\n",
        "    estimator_val = cp.zeros(N_val, dtype=cp.float64)\n",
        "    for i in range(d):\n",
        "      estimator_val += torch.real(NUFFT_inv(x_val[i], hat_theta[(2*m+1)*i:(2*m+1)*(i+1)], threshold))\n",
        "\n",
        "    error = torch.tensor((estimator_val-y_val).get(), dtype=torch.float64)\n",
        "    mse = torch.mean(torch.square(torch.abs(error)))\n",
        "    if mse <err_val:\n",
        "      err_val = mse\n",
        "      hat_theta_val = hat_theta\n",
        "\n",
        "  end_event.record()\n",
        "  torch.cuda.synchronize()\n",
        "  time_N = np.append(time_N,start_event.elapsed_time(end_event)/10**3)\n",
        "\n",
        "  N_test = 10**4\n",
        "  x_test = cp.random.uniform(size=(d, N_test), dtype=cp.float64)\n",
        "  f_test = cp.zeros(N_test, dtype=cp.float64)\n",
        "\n",
        "  for i in range(d):\n",
        "    f_test += cp.exp(x_test[i]/(i+1)) - 1\n",
        "  y_test =  f_test.astype(cp.complex128)\n",
        "\n",
        "  estimator = cp.zeros(N_test, dtype=cp.float64)\n",
        "\n",
        "  for i in range(d):\n",
        "    estimator += torch.real(NUFFT_inv(x_test[i], hat_theta[(2*m+1)*i:(2*m+1)*(i+1)], threshold))\n",
        "\n",
        "  error = torch.tensor((estimator-y_test).get(), dtype=torch.float64)\n",
        "  mse = torch.mean(torch.square(torch.abs(error)))\n",
        "\n",
        "  list_N = np.append(list_N, N)\n",
        "  err_N = np.append(err_N, mse)"
      ],
      "metadata": {
        "colab": {
          "base_uri": "https://localhost:8080/"
        },
        "id": "0r4UjIqi6qC6",
        "outputId": "d535474c-4c62-4c0b-fa52-44ef6071ebdf"
      },
      "execution_count": 32,
      "outputs": [
        {
          "output_type": "stream",
          "name": "stdout",
          "text": [
            "i =  1\n",
            "i =  2\n",
            "i =  3\n",
            "i =  4\n",
            "i =  5\n",
            "i =  6\n",
            "i =  7\n",
            "i =  8\n",
            "i =  9\n",
            "i =  10\n",
            "i =  11\n",
            "i =  12\n",
            "i =  13\n",
            "i =  14\n",
            "i =  15\n",
            "i =  16\n"
          ]
        }
      ]
    },
    {
      "cell_type": "code",
      "source": [
        "import matplotlib.pyplot as plt\n",
        "\n",
        "plt.scatter(list_N, err_N)\n",
        "plt.xscale('log')\n",
        "plt.yscale('log')\n",
        "plt.xlabel(\"Number of points\")\n",
        "plt.ylabel(\"MSE\")\n"
      ],
      "metadata": {
        "colab": {
          "base_uri": "https://localhost:8080/",
          "height": 474
        },
        "id": "foZNE3xE8-QX",
        "outputId": "1aabf152-39cd-47a7-d428-5462b2367bc4"
      },
      "execution_count": 33,
      "outputs": [
        {
          "output_type": "execute_result",
          "data": {
            "text/plain": [
              "Text(0, 0.5, 'MSE')"
            ]
          },
          "metadata": {},
          "execution_count": 33
        },
        {
          "output_type": "display_data",
          "data": {
            "text/plain": [
              "<Figure size 640x480 with 1 Axes>"
            ],
            "image/png": "[encoded data removed]"
          },
          "metadata": {}
        }
      ]
    },
    {
      "cell_type": "code",
      "source": [
        "plt.scatter(list_N, time_N)\n",
        "plt.xscale('log')\n",
        "plt.yscale('log')\n",
        "plt.xlabel(\"Number of points\")\n",
        "plt.ylabel(\"Run time\")\n",
        "plt.show()"
      ],
      "metadata": {
        "colab": {
          "base_uri": "https://localhost:8080/",
          "height": 454
        },
        "id": "HzWC0h289MDC",
        "outputId": "ea87f90d-c9f4-437a-f988-3d2bcda87b98"
      },
      "execution_count": 34,
      "outputs": [
        {
          "output_type": "display_data",
          "data": {
            "text/plain": [
              "<Figure size 640x480 with 1 Axes>"
            ],
            "image/png": "[encoded data removed]"
          },
          "metadata": {}
        }
      ]
    },
    {
      "cell_type": "code",
      "source": [
        "with open('results_weakl_gpu_gs.npy', 'wb') as f:\n",
        "    np.save(f, list_N)\n",
        "    np.save(f, err_N)\n",
        "    np.save(f, time_N)"
      ],
      "metadata": {
        "id": "VvCO38YeCbcd"
      },
      "execution_count": 35,
      "outputs": []
    },
    {
      "cell_type": "markdown",
      "source": [
        "## 4.2 - CPU kernel"
      ],
      "metadata": {
        "id": "upM6nerdGlf9"
      }
    },
    {
      "cell_type": "code",
      "source": [
        "import time\n",
        "np.random.seed(42)\n",
        "\n",
        "d = 5\n",
        "s = 2\n",
        "\n",
        "perf_cpu, n_cpu, time_cpu = np.array([]), np.array([]), np.array([])\n",
        "lambda_N_list = [10**(-i/10) for i in range(300)]\n",
        "\n",
        "for i in range(1, 16):#17):\n",
        "  print(\"i = \", i)\n",
        "\n",
        "  ##### Training data\n",
        "  N = int(10**(i/2))\n",
        "\n",
        "\n",
        "  x_gpu = np.random.uniform(size=(d, N))\n",
        "  f_gpu = np.zeros(N)\n",
        "  for i in range(d):\n",
        "    f_gpu += np.exp(x_gpu[i]/(i+1)) - 1\n",
        "  y_gpu =  (f_gpu + np.random.normal(size=N)).astype(np.complex128)\n",
        "\n",
        "  threshold = N**(-2*s/(2*s+1))/10\n",
        "\n",
        "  m = 1+int(N**(1/(2*s+1))/d)\n",
        "  M = 2*m+1\n",
        "\n",
        "  ##### Validation data\n",
        "  N_val = min(N, 10**4)\n",
        "  x_val = np.random.uniform(size=(d, N_val))\n",
        "  f_val = np.zeros(N_val)\n",
        "  for i in range(d):\n",
        "    f_val += np.exp(x_val[i]/(i+1)) - 1\n",
        "  y_val =  (f_val + np.random.normal(size=N_val)).astype(np.complex128)\n",
        "\n",
        "  err_val = np.inf\n",
        "\n",
        "  ##### Fitting\n",
        "  start = time.time()\n",
        "\n",
        "  cov_y = np.empty(d * M,  dtype=np.complex128)\n",
        "  for i in range(d):\n",
        "    cov_y[i*M:(i+1)*M] = NUFFT_Y_cpu(x_gpu[i], y_gpu, m, threshold)\n",
        "\n",
        "  cov_x = np.empty((d * M, d * M),  dtype=np.complex128)\n",
        "\n",
        "  for i1 in range(d):\n",
        "      for i2 in range(i1, d):\n",
        "          cov_x[i1*M:(i1+1)*M, i2*M:(i2+1)*M] = kernel_vect_cpu(x_gpu[i1], -x_gpu[i2], m, threshold)\n",
        "\n",
        "          if i1 != i2:\n",
        "              # Assign Hermitian symmetric block (i2, i1)\n",
        "              cov_x[i2*M:(i2+1)*M, i1*M:(i1+1)*M] = (cov_x[i1*M:(i1+1)*M, i2*M:(i2+1)*M]).conj().T\n",
        "\n",
        "\n",
        "  for lambda_n in lambda_N_list:\n",
        "    A_funct = lambda x: A_function(x, lambda_n, cov_x)\n",
        "\n",
        "    if lambda_n == lambda_N_list[0]:\n",
        "      hat_theta = conjugate_gradient_cpu(A_funct, cov_y, cov_y, threshold, display=False).astype(np.complex128)\n",
        "      hat_theta_last = hat_theta\n",
        "    else:\n",
        "      hat_theta = conjugate_gradient_cpu(A_funct, cov_y, cov_y, threshold, display=False).astype(np.complex128)\n",
        "      hat_theta_last = hat_theta\n",
        "\n",
        "    estimator_val = np.zeros(N_val)\n",
        "    for i in range(d):\n",
        "      estimator_val += np.real(NUFFT_inv_cpu(x_val[i], hat_theta[(2*m+1)*i:(2*m+1)*(i+1)], threshold))\n",
        "\n",
        "    error = estimator_val-y_val\n",
        "    mse = np.mean(np.square(np.abs(error)))\n",
        "    if mse <err_val:\n",
        "      err_val = mse\n",
        "      hat_theta_val = hat_theta\n",
        "\n",
        "  end = time.time()\n",
        "  time_cpu = np.append(time_cpu, end-start)\n",
        "\n",
        "  ###\n",
        "  N_test = 10**4\n",
        "  x_test = np.random.uniform(size=(d, N_test))\n",
        "  f_test = np.zeros(N_test)\n",
        "\n",
        "  for i in range(d):\n",
        "    f_test += np.exp(x_test[i]/(i+1)) - 1\n",
        "  y_test =  f_test.astype(np.complex128)\n",
        "\n",
        "  estimator = np.zeros(N_test)\n",
        "\n",
        "  for i in range(d):\n",
        "    estimator += np.real(NUFFT_inv_cpu(x_test[i], hat_theta[(2*m+1)*i:(2*m+1)*(i+1)], threshold))\n",
        "\n",
        "  error = estimator-y_test\n",
        "  mse = np.mean(np.square(np.abs(error)))\n",
        "\n",
        "  n_cpu = np.append(n_cpu, N)\n",
        "  perf_cpu = np.append(perf_cpu, mse)"
      ],
      "metadata": {
        "id": "c0ebT782GrCx",
        "colab": {
          "base_uri": "https://localhost:8080/"
        },
        "outputId": "7a3b1270-d4e6-44ae-fb05-d66142dfa76d"
      },
      "execution_count": 36,
      "outputs": [
        {
          "output_type": "stream",
          "name": "stdout",
          "text": [
            "i =  1\n",
            "i =  2\n",
            "i =  3\n",
            "i =  4\n",
            "i =  5\n",
            "i =  6\n",
            "i =  7\n",
            "i =  8\n",
            "i =  9\n",
            "i =  10\n",
            "i =  11\n",
            "i =  12\n",
            "i =  13\n",
            "i =  14\n",
            "i =  15\n"
          ]
        }
      ]
    },
    {
      "cell_type": "code",
      "source": [
        "with open('results_kernel_cpu_gs.npy', 'wb') as f:\n",
        "    np.save(f, n_cpu)\n",
        "    np.save(f, time_cpu)\n",
        "    np.save(f, perf_cpu)"
      ],
      "metadata": {
        "id": "U8VW26qdJAUd"
      },
      "execution_count": 37,
      "outputs": []
    },
    {
      "cell_type": "markdown",
      "source": [
        "## 4.3 - PyGAM"
      ],
      "metadata": {
        "id": "9F06QudJCfFI"
      }
    },
    {
      "cell_type": "code",
      "source": [
        "from pygam import LinearGAM, s\n",
        "import numpy as np\n",
        "import time\n",
        "\n",
        "np.random.seed(42)\n",
        "n_pygam = [int(10**(i/2)) for i in range(2, 10)]\n",
        "time_pygam = []\n",
        "perf_pygam = []\n",
        "N_test = 10**4\n",
        "d = 5\n",
        "smoothness = 2\n",
        "\n",
        "lambda_N_list = [[10**(-i/10)]*d for i in range(300)]\n",
        "lam_grid = np.array(lambda_N_list)\n",
        "\n",
        "for n in n_pygam:\n",
        "  print(\"\\n n = \", n, \"\\n\")\n",
        "  X = np.random.rand(n, d)\n",
        "  y = np.zeros(n)\n",
        "  for i in range(d):\n",
        "    y += np.exp(X[:, i]/(i+1)) - 1\n",
        "  y += np.random.randn(n)\n",
        "\n",
        "  m = 1+int(n**(1/(2*smoothness+1))/d)\n",
        "  M = max(4,2*m+1)\n",
        "\n",
        "  # Set up the model with 5 univariate spline terms\n",
        "  # 10 splines per term, and lambda = 0.001 for each\n",
        "  base_gam = LinearGAM(\n",
        "      s(0, n_splines=M) +\n",
        "      s(1, n_splines=M) +\n",
        "      s(2, n_splines=M) +\n",
        "      s(3, n_splines=M) +\n",
        "      s(4, n_splines=M)\n",
        "  )\n",
        "\n",
        "  # Fit the model\n",
        "  start = time.time()\n",
        "  gam = base_gam.gridsearch(X=X, y=y, lam = lam_grid)\n",
        "  end = time.time()\n",
        "  time_pygam.append(end-start)\n",
        "\n",
        "  # Test\n",
        "  X_test = np.random.rand(N_test, d)\n",
        "  y_test = np.zeros(N_test)\n",
        "  for i in range(d):\n",
        "    y_test += np.exp(X_test[:, i]/(i+1)) - 1\n",
        "  y_pred = gam.predict(X_test)\n",
        "\n",
        "  mse = np.mean(np.square(y_pred - y_test))\n",
        "  perf_pygam.append(mse)"
      ],
      "metadata": {
        "colab": {
          "base_uri": "https://localhost:8080/"
        },
        "id": "-fJdkdxiCg0H",
        "outputId": "7da3b36b-968e-43ad-f196-9f9111dd4e9e"
      },
      "execution_count": 38,
      "outputs": [
        {
          "output_type": "stream",
          "name": "stderr",
          "text": [
            "\u001b[38;2;255;26;0m  4%\u001b[39m \u001b[38;2;255;26;0m(12 of 300)\u001b[39m |                       | Elapsed Time: 0:00:00 ETA:   0:00:04"
          ]
        },
        {
          "output_type": "stream",
          "name": "stdout",
          "text": [
            "\n",
            " n =  10 \n",
            "\n"
          ]
        },
        {
          "output_type": "stream",
          "name": "stderr",
          "text": [
            "\u001b[38;2;0;255;0m100%\u001b[39m \u001b[38;2;0;255;0m(300 of 300)\u001b[39m |######################| Elapsed Time: 0:00:04 Time:  0:00:04\n",
            "\u001b[38;2;255;26;0m  4%\u001b[39m \u001b[38;2;255;26;0m(12 of 300)\u001b[39m |                       | Elapsed Time: 0:00:00 ETA:   0:00:04"
          ]
        },
        {
          "output_type": "stream",
          "name": "stdout",
          "text": [
            "\n",
            " n =  31 \n",
            "\n"
          ]
        },
        {
          "output_type": "stream",
          "name": "stderr",
          "text": [
            "\u001b[38;2;0;255;0m100%\u001b[39m \u001b[38;2;0;255;0m(300 of 300)\u001b[39m |######################| Elapsed Time: 0:00:04 Time:  0:00:04\n",
            "\u001b[38;2;255;17;0m  2%\u001b[39m \u001b[38;2;255;17;0m(8 of 300)\u001b[39m |                        | Elapsed Time: 0:00:00 ETA:   0:00:05"
          ]
        },
        {
          "output_type": "stream",
          "name": "stdout",
          "text": [
            "\n",
            " n =  100 \n",
            "\n"
          ]
        },
        {
          "output_type": "stream",
          "name": "stderr",
          "text": [
            "\u001b[38;2;0;255;0m100%\u001b[39m \u001b[38;2;0;255;0m(300 of 300)\u001b[39m |######################| Elapsed Time: 0:00:05 Time:  0:00:05\n",
            "\u001b[38;2;255;17;0m  2%\u001b[39m \u001b[38;2;255;17;0m(8 of 300)\u001b[39m |                        | Elapsed Time: 0:00:00 ETA:   0:00:05"
          ]
        },
        {
          "output_type": "stream",
          "name": "stdout",
          "text": [
            "\n",
            " n =  316 \n",
            "\n"
          ]
        },
        {
          "output_type": "stream",
          "name": "stderr",
          "text": [
            "\u001b[38;2;0;255;0m100%\u001b[39m \u001b[38;2;0;255;0m(300 of 300)\u001b[39m |######################| Elapsed Time: 0:00:04 Time:  0:00:04\n",
            "\u001b[38;2;255;8;0m  1%\u001b[39m \u001b[38;2;255;8;0m(4 of 300)\u001b[39m |                        | Elapsed Time: 0:00:00 ETA:   0:00:09"
          ]
        },
        {
          "output_type": "stream",
          "name": "stdout",
          "text": [
            "\n",
            " n =  1000 \n",
            "\n"
          ]
        },
        {
          "output_type": "stream",
          "name": "stderr",
          "text": [
            "\u001b[38;2;0;255;0m100%\u001b[39m \u001b[38;2;0;255;0m(300 of 300)\u001b[39m |######################| Elapsed Time: 0:00:09 Time:  0:00:09\n",
            "\u001b[38;2;255;8;0m  1%\u001b[39m \u001b[38;2;255;8;0m(4 of 300)\u001b[39m |                        | Elapsed Time: 0:00:00 ETA:   0:00:13"
          ]
        },
        {
          "output_type": "stream",
          "name": "stdout",
          "text": [
            "\n",
            " n =  3162 \n",
            "\n"
          ]
        },
        {
          "output_type": "stream",
          "name": "stderr",
          "text": [
            "\u001b[38;2;0;255;0m100%\u001b[39m \u001b[38;2;0;255;0m(300 of 300)\u001b[39m |######################| Elapsed Time: 0:00:14 Time:  0:00:14\n",
            "\u001b[38;2;255;2;0m  0%\u001b[39m \u001b[38;2;255;2;0m(1 of 300)\u001b[39m |                        | Elapsed Time: 0:00:00 ETA:   0:00:31"
          ]
        },
        {
          "output_type": "stream",
          "name": "stdout",
          "text": [
            "\n",
            " n =  10000 \n",
            "\n"
          ]
        },
        {
          "output_type": "stream",
          "name": "stderr",
          "text": [
            "\u001b[38;2;0;255;0m100%\u001b[39m \u001b[38;2;0;255;0m(300 of 300)\u001b[39m |######################| Elapsed Time: 0:00:28 Time:  0:00:28\n",
            "\u001b[38;2;255;0;0m  0%\u001b[39m \u001b[38;2;255;0;0m(0 of 300)\u001b[39m |                        | Elapsed Time: 0:00:00 ETA:  --:--:--"
          ]
        },
        {
          "output_type": "stream",
          "name": "stdout",
          "text": [
            "\n",
            " n =  31622 \n",
            "\n"
          ]
        },
        {
          "output_type": "stream",
          "name": "stderr",
          "text": [
            "\u001b[38;2;0;255;0m100%\u001b[39m \u001b[38;2;0;255;0m(300 of 300)\u001b[39m |######################| Elapsed Time: 0:01:20 Time:  0:01:20\n"
          ]
        }
      ]
    },
    {
      "cell_type": "code",
      "source": [
        "with open('results_pygam_gs.npy', 'wb') as f:\n",
        "    np.save(f, n_pygam)\n",
        "    np.save(f, time_pygam)\n",
        "    np.save(f, perf_pygam)"
      ],
      "metadata": {
        "id": "klT03n8wEPLN"
      },
      "execution_count": 39,
      "outputs": []
    },
    {
      "cell_type": "markdown",
      "source": [
        "## 4.4 - Plots"
      ],
      "metadata": {
        "id": "12_lIM6EFVpK"
      }
    },
    {
      "cell_type": "code",
      "source": [
        "with open('results_weakl_gpu_gs.npy', 'rb') as f:\n",
        "    n_gpu = np.load(f)\n",
        "    perf_gpu = np.load(f)\n",
        "    time_gpu = np.load(f)\n",
        "\n",
        "with open('results_pygam_gs.npy', 'rb') as f:\n",
        "    n_pygam = np.load(f)\n",
        "    time_pygam = np.load(f)\n",
        "    perf_pygam = np.load(f)"
      ],
      "metadata": {
        "id": "lyPtl7P4FXHN"
      },
      "execution_count": 40,
      "outputs": []
    },
    {
      "cell_type": "code",
      "source": [
        "import matplotlib.pyplot as plt\n",
        "import matplotlib.cm as cm\n",
        "\n",
        "colors = [cm.gray(x) for x in np.linspace(0, 0.7, 3)]\n",
        "\n",
        "plt.plot(n_pygam, time_pygam, label=\"PyGAM\", color=colors[0])\n",
        "plt.plot(n_gpu[1:], time_gpu[1:], linestyle = \"--\", label=\"GPU kernel\", color=colors[1])\n",
        "plt.plot(n_cpu[1:], time_cpu[1:],  label=\"CPU kernel\", color=colors[2])\n",
        "plt.xscale('log')\n",
        "plt.yscale('log')\n",
        "plt.legend()\n",
        "plt.xlabel(\"n\")\n",
        "plt.ylabel(\"Running time (s)\")\n",
        "plt.savefig('Additive-runtime_gs.pdf')\n",
        "plt.show()\n",
        "\n",
        "plt.plot(n_pygam, perf_pygam, label=\"PyGAM\", color=colors[0])\n",
        "plt.plot(n_gpu[1:], perf_gpu[1:], linestyle = \"--\", label=\"GPU kernel\", color=colors[1])\n",
        "plt.plot(n_cpu[1:], perf_cpu[1:],  label=\"CPU kernel\", color=colors[2])\n",
        "plt.xscale('log')\n",
        "plt.yscale('log')\n",
        "plt.legend()\n",
        "plt.ylabel(\"MSE\")\n",
        "plt.xlabel(\"n\")\n",
        "plt.savefig('Additive-perf-gs.pdf')\n",
        "plt.show()"
      ],
      "metadata": {
        "colab": {
          "base_uri": "https://localhost:8080/",
          "height": 891
        },
        "id": "pSCKmKgoFbGt",
        "outputId": "1050c942-99bd-41e6-eee4-e62a650535aa"
      },
      "execution_count": 42,
      "outputs": [
        {
          "output_type": "display_data",
          "data": {
            "text/plain": [
              "<Figure size 640x480 with 1 Axes>"
            ],
            "image/png": "[encoded data removed]"
          },
          "metadata": {}
        },
        {
          "output_type": "display_data",
          "data": {
            "text/plain": [
              "<Figure size 640x480 with 1 Axes>"
            ],
            "image/png": "[encoded data removed]"
          },
          "metadata": {}
        }
      ]
    }
  ]
}