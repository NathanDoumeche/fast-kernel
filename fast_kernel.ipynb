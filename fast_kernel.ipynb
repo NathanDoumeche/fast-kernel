{
  "nbformat": 4,
  "nbformat_minor": 0,
  "metadata": {
    "colab": {
      "provenance": [],
      "gpuType": "T4",
      "authorship_tag": "ABX9TyNdz1IELA/X1upYyzsOW5/Z",
      "include_colab_link": true
    },
    "kernelspec": {
      "name": "python3",
      "display_name": "Python 3"
    },
    "language_info": {
      "name": "python"
    },
    "accelerator": "GPU"
  },
  "cells": [
    {
      "cell_type": "markdown",
      "metadata": {
        "id": "view-in-github",
        "colab_type": "text"
      },
      "source": [
        "<a href=\"https://colab.research.google.com/github/NathanDoumeche/fast-kernel/blob/main/fast_kernel.ipynb\" target=\"_parent\"><img src=\"https://colab.research.google.com/assets/colab-badge.svg\" alt=\"Open In Colab\"/></a>"
      ]
    },
    {
      "cell_type": "code",
      "execution_count": 11,
      "metadata": {
        "colab": {
          "base_uri": "https://localhost:8080/"
        },
        "id": "a1qoNaLmsSxb",
        "outputId": "d11063e1-ce50-422e-e4f2-b29fed3022fa"
      },
      "outputs": [
        {
          "output_type": "stream",
          "name": "stdout",
          "text": [
            "Requirement already satisfied: cufinufft==2.2 in /usr/local/lib/python3.11/dist-packages (2.2.0)\n",
            "Requirement already satisfied: numpy in /usr/local/lib/python3.11/dist-packages (from cufinufft==2.2) (2.0.2)\n",
            "Requirement already satisfied: six in /usr/local/lib/python3.11/dist-packages (from cufinufft==2.2) (1.17.0)\n"
          ]
        }
      ],
      "source": [
        "pip install cufinufft==2.2"
      ]
    },
    {
      "cell_type": "code",
      "source": [
        "import torch\n",
        "import cupy as cp\n",
        "import cufinufft\n",
        "import numpy as np"
      ],
      "metadata": {
        "id": "l2xwWFw2sqz2"
      },
      "execution_count": 12,
      "outputs": []
    },
    {
      "cell_type": "code",
      "source": [
        "device = torch.device(\"cuda:0\")\n",
        "torch.set_default_dtype(torch.float64)"
      ],
      "metadata": {
        "id": "a6ZJCTKftVzf"
      },
      "execution_count": 13,
      "outputs": []
    },
    {
      "cell_type": "markdown",
      "source": [
        "# 1- Sobolev regression"
      ],
      "metadata": {
        "id": "aLqxeVA3sflY"
      }
    },
    {
      "cell_type": "code",
      "source": [
        "def conjugate_gradient(A_function, b, x0, tol=1e-10):\n",
        "    \"\"\"\n",
        "    Solves Ax = b using the Conjugate Gradient method.\n",
        "\n",
        "    Parameters:\n",
        "        A : function or matrix\n",
        "            Matrix or function that computes the product Ax.\n",
        "        b : ndarray\n",
        "            Right-hand side vector.\n",
        "        x0 : ndarray\n",
        "            Initial guess.\n",
        "        tol : float\n",
        "            Tolerance for the stopping criterion.\n",
        "        max_iter : int\n",
        "            Maximum number of iterations.\n",
        "\n",
        "    Returns:\n",
        "        x : ndarray\n",
        "            Approximate solution to Ax = b.\n",
        "    \"\"\"\n",
        "    m = b.shape[0]\n",
        "\n",
        "    x = x0\n",
        "    r = b - A_function(x)\n",
        "    p = r.clone()\n",
        "    rs_old = torch.linalg.vector_norm(r)**2\n",
        "\n",
        "    for i in range(m):\n",
        "        Ap = A_function(p)\n",
        "        alpha = rs_old / torch.vdot(p, Ap)\n",
        "        x = x + alpha * p\n",
        "        r = r - alpha * Ap\n",
        "        rs_new = torch.linalg.vector_norm(r)**2\n",
        "\n",
        "        if torch.sqrt(rs_new) < tol:\n",
        "            print(f\"CG converged in {i} iterations.\")\n",
        "            break\n",
        "        p = r + (rs_new / rs_old) * p\n",
        "        rs_old = rs_new\n",
        "\n",
        "    return x"
      ],
      "metadata": {
        "id": "qYt87-RBsYlg"
      },
      "execution_count": 14,
      "outputs": []
    },
    {
      "cell_type": "code",
      "source": [
        "def circulant_col(toeplitz_col, device):\n",
        "\n",
        "  n = toeplitz_col.shape[0]\n",
        "\n",
        "  # Create Hermitian-symmetric circulant embedding\n",
        "\n",
        "  circulant_vector = torch.concatenate([\n",
        "      toeplitz_col,\n",
        "      torch.zeros(n-1, device=device),\n",
        "      torch.conj(torch.flip(toeplitz_col[1:], (0,)))\n",
        "  ])\n",
        "  return circulant_vector, n\n",
        "\n",
        "def fast_hermitian_toeplitz_mv(circulant, n, x, device):\n",
        "    # Zero-pad x\n",
        "    x_padded = torch.concatenate([x, torch.zeros(2 * n-2 , device=device)])\n",
        "\n",
        "    # FFT-based convolution (complex)\n",
        "    fft_c = torch.fft.fft(circulant)\n",
        "    fft_x = torch.fft.fft(x_padded)\n",
        "\n",
        "    y = torch.fft.ifft(fft_c * fft_x)[:n]\n",
        "\n",
        "    return y  # complex-valued result"
      ],
      "metadata": {
        "id": "2JD1n4gCskjx"
      },
      "execution_count": 15,
      "outputs": []
    },
    {
      "cell_type": "code",
      "source": [
        "def kernel_vect(x_gpu, N, threshold):\n",
        "  n = x_gpu.shape[0]\n",
        "  y_gpu = cp.ones(n).astype(cp.complex128)\n",
        "\n",
        "  f_gpu = cufinufft.nufft1d1(x_gpu, y_gpu, (2*N,), eps=threshold)[N:]/n\n",
        "  f_tensor = torch.utils.dlpack.from_dlpack(f_gpu)\n",
        "\n",
        "  circulant, n = circulant_col(f_tensor, device)\n",
        "  return circulant"
      ],
      "metadata": {
        "id": "yr2t_fyssmhw"
      },
      "execution_count": 16,
      "outputs": []
    },
    {
      "cell_type": "code",
      "source": [
        "def S_vect_inv(m, s):\n",
        "  frequencies =  torch.arange(-m, m+1, device=device)\n",
        "  return 1/(1 + torch.abs(frequencies)**s)\n",
        "\n",
        "def A_function(x, lambda_n, S_inv, k_circ):\n",
        "  n = x.shape[0]\n",
        "  kernel_term = S_inv* fast_hermitian_toeplitz_mv(k_circ, n, S_inv * x, device)\n",
        "  return kernel_term + lambda_n * x"
      ],
      "metadata": {
        "id": "ajXGZW-wsvUb"
      },
      "execution_count": 17,
      "outputs": []
    },
    {
      "cell_type": "code",
      "source": [
        "def NUFFT_Y(x_gpu, y_gpu, m, threshold):\n",
        "  n = x_gpu.shape[0]\n",
        "\n",
        "  f_gpu = cufinufft.nufft1d1(x_gpu, y_gpu, (2*m+1,), eps=threshold)/n\n",
        "\n",
        "  f_tensor = torch.utils.dlpack.from_dlpack(f_gpu)\n",
        "\n",
        "  return f_tensor"
      ],
      "metadata": {
        "id": "365v6aiAsvtO"
      },
      "execution_count": 18,
      "outputs": []
    },
    {
      "cell_type": "code",
      "source": [
        "def FFT_inv(x_gpu, nufft, m, lambda_n, threshold):\n",
        "    k_vect = kernel_vect(x_gpu, 2*m+1, threshold)\n",
        "    S_inv = S_vect_inv(m, s)\n",
        "    A_funct = lambda x: A_function(x, lambda_n, S_inv, k_vect)\n",
        "\n",
        "    x0 = nufft.clone()\n",
        "    inv = conjugate_gradient(A_funct, nufft, x0, tol=threshold)\n",
        "    print(\"Error CG \", torch.linalg.norm(A_funct(inv) - nufft))\n",
        "    return S_inv * inv"
      ],
      "metadata": {
        "id": "V97AFeLAsxXC"
      },
      "execution_count": 19,
      "outputs": []
    },
    {
      "cell_type": "code",
      "source": [
        "def NUFFT_inv(x_gpu, f_gpu, N, threshold):\n",
        "  n = x_gpu.shape[0]\n",
        "\n",
        "  y_estimated = cufinufft.nufft1d2(x_gpu, f_gpu, eps=threshold)\n",
        "\n",
        "  y_estimated = torch.utils.dlpack.from_dlpack(y_estimated)\n",
        "\n",
        "  return y_estimated"
      ],
      "metadata": {
        "id": "FyXeMUsAszFS"
      },
      "execution_count": 20,
      "outputs": []
    },
    {
      "cell_type": "code",
      "source": [
        "import numpy as np\n",
        "\n",
        "err_N, list_N = np.array([]), np.array([])\n",
        "\n",
        "for i in range(1, 17):\n",
        "  N = int(10**(i/2))\n",
        "  threshold = 10e-15\n",
        "  x_gpu =  cp.random.uniform(size=N).astype(cp.float64)\n",
        "  y_gpu =  cp.exp(x_gpu).astype(cp.complex128) + cp.random.normal(size=N).astype(cp.complex128)\n",
        "\n",
        "\n",
        "  s,d = 1,1\n",
        "  lambda_n=N**(-(2*s)/(2*s+d))\n",
        "  m = int(N**(1/(2*s+d))) #int(np.sqrt(N))\n",
        "\n",
        "  S_inv = S_vect_inv(m, s)\n",
        "\n",
        "  cov_y = S_inv*NUFFT_Y(x_gpu, y_gpu, m, threshold)\n",
        "  hat_theta = FFT_inv(x_gpu, cov_y, m, lambda_n, threshold)\n",
        "\n",
        "  N_test = 10**4\n",
        "  x_test = cp.random.uniform(size=N_test).astype(cp.float64)\n",
        "  y_test = cp.exp(x_test).astype(cp.complex128)\n",
        "\n",
        "  estimator = torch.real(NUFFT_inv(x_test, hat_theta, m, threshold))\n",
        "\n",
        "  error = torch.real(estimator.cpu()) - torch.tensor(y_test.get(), dtype=torch.float64)\n",
        "  mse = torch.mean(torch.square(torch.abs(error)))\n",
        "\n",
        "  list_N = np.append(list_N, N)\n",
        "  err_N = np.append(err_N, mse)\n"
      ],
      "metadata": {
        "colab": {
          "base_uri": "https://localhost:8080/"
        },
        "id": "v7nOaF3js0h2",
        "outputId": "03a41e75-208c-4801-d5c4-768925bda889"
      },
      "execution_count": 21,
      "outputs": [
        {
          "output_type": "stream",
          "name": "stdout",
          "text": [
            "CG converged in 2 iterations.\n",
            "Error CG  tensor(1.4948e-15, device='cuda:0')\n",
            "Error CG  tensor(4.9564e-13, device='cuda:0')\n"
          ]
        },
        {
          "output_type": "stream",
          "name": "stderr",
          "text": [
            "<ipython-input-21-d87dd1d441e0>:27: UserWarning: Casting complex values to real discards the imaginary part (Triggered internally at /pytorch/aten/src/ATen/native/Copy.cpp:308.)\n",
            "  error = torch.real(estimator.cpu()) - torch.tensor(y_test.get(), dtype=torch.float64)\n"
          ]
        },
        {
          "output_type": "stream",
          "name": "stdout",
          "text": [
            "CG converged in 6 iterations.\n",
            "Error CG  tensor(3.7321e-16, device='cuda:0')\n",
            "CG converged in 6 iterations.\n",
            "Error CG  tensor(2.3625e-15, device='cuda:0')\n",
            "CG converged in 8 iterations.\n",
            "Error CG  tensor(1.0861e-15, device='cuda:0')\n",
            "CG converged in 10 iterations.\n",
            "Error CG  tensor(5.6416e-16, device='cuda:0')\n",
            "CG converged in 14 iterations.\n",
            "Error CG  tensor(7.2318e-16, device='cuda:0')\n",
            "CG converged in 18 iterations.\n",
            "Error CG  tensor(1.7218e-15, device='cuda:0')\n",
            "CG converged in 24 iterations.\n",
            "Error CG  tensor(9.8885e-16, device='cuda:0')\n",
            "CG converged in 34 iterations.\n",
            "Error CG  tensor(8.8479e-16, device='cuda:0')\n",
            "CG converged in 49 iterations.\n",
            "Error CG  tensor(1.6277e-15, device='cuda:0')\n",
            "CG converged in 77 iterations.\n",
            "Error CG  tensor(3.6883e-15, device='cuda:0')\n",
            "CG converged in 117 iterations.\n",
            "Error CG  tensor(6.6256e-15, device='cuda:0')\n",
            "CG converged in 165 iterations.\n",
            "Error CG  tensor(4.2178e-15, device='cuda:0')\n",
            "CG converged in 223 iterations.\n",
            "Error CG  tensor(8.3217e-15, device='cuda:0')\n",
            "CG converged in 324 iterations.\n",
            "Error CG  tensor(9.7985e-15, device='cuda:0')\n"
          ]
        }
      ]
    },
    {
      "cell_type": "code",
      "source": [
        "import matplotlib.pyplot as plt\n",
        "\n",
        "plt.scatter(list_N, err_N)\n",
        "plt.xscale('log')\n",
        "plt.yscale('log')\n",
        "plt.xlabel(\"Number of points\")\n",
        "plt.ylabel(\"MSE\")"
      ],
      "metadata": {
        "colab": {
          "base_uri": "https://localhost:8080/",
          "height": 472
        },
        "id": "KyUlM7WAs2vv",
        "outputId": "a6982ab9-d165-4010-f111-390647f8dbd7"
      },
      "execution_count": 22,
      "outputs": [
        {
          "output_type": "execute_result",
          "data": {
            "text/plain": [
              "Text(0, 0.5, 'MSE')"
            ]
          },
          "metadata": {},
          "execution_count": 22
        },
        {
          "output_type": "display_data",
          "data": {
            "text/plain": [
              "<Figure size 640x480 with 1 Axes>"
            ],
            "image/png": "[encoded data removed]"
          },
          "metadata": {}
        }
      ]
    },
    {
      "cell_type": "code",
      "source": [
        "import matplotlib.pyplot as plt\n",
        "\n",
        "plt.scatter(x_test.get(), y_test.get(), label=\"True\")\n",
        "plt.scatter(x_test.get(), estimator.cpu().numpy(), label=\"Estimated\")\n",
        "plt.legend()\n",
        "plt.show()"
      ],
      "metadata": {
        "colab": {
          "base_uri": "https://localhost:8080/",
          "height": 501
        },
        "id": "SnquWuY8s61K",
        "outputId": "9c12fce9-d617-4543-f8e1-c54f3daed3ce"
      },
      "execution_count": 23,
      "outputs": [
        {
          "output_type": "stream",
          "name": "stderr",
          "text": [
            "/usr/local/lib/python3.11/dist-packages/matplotlib/cbook.py:1709: ComplexWarning: Casting complex values to real discards the imaginary part\n",
            "  return math.isfinite(val)\n",
            "/usr/local/lib/python3.11/dist-packages/matplotlib/collections.py:200: ComplexWarning: Casting complex values to real discards the imaginary part\n",
            "  offsets = np.asanyarray(offsets, float)\n"
          ]
        },
        {
          "output_type": "display_data",
          "data": {
            "text/plain": [
              "<Figure size 640x480 with 1 Axes>"
            ],
            "image/png": "[encoded data removed]"
          },
          "metadata": {}
        }
      ]
    },
    {
      "cell_type": "markdown",
      "source": [
        "# 2- PIKL"
      ],
      "metadata": {
        "id": "zdMm0kcxs8gK"
      }
    },
    {
      "cell_type": "code",
      "source": [
        "def PDE_vect(m):\n",
        "  frequencies =  torch.arange(-m, m+1, device=device)\n",
        "  return 1 + 1j*frequencies\n",
        "\n",
        "def A_function_PIKL(x, lambda_n, mu, S_inv, PDE_vector, k_circ):\n",
        "  n = x.shape[0]\n",
        "  kernel_term = S_inv* fast_hermitian_toeplitz_mv(k_circ, n, S_inv * x, device)\n",
        "  PDE_term = torch.conj_physical(PDE_vector)*S_inv* fast_hermitian_toeplitz_mv(k_circ, n, PDE_vector*S_inv * x, device)\n",
        "  return kernel_term + lambda_n * x + mu * PDE_term\n",
        "\n",
        "def FFT_inv_PIKL(x_gpu, nufft, m, lambda_n, mu, threshold):\n",
        "    k_vect = kernel_vect(x_gpu, 2*m+1, threshold)\n",
        "    S_inv = S_vect_inv(m, s)\n",
        "    PDE_vector = PDE_vect(m)\n",
        "    A_funct = lambda x: A_function_PIKL(x, lambda_n, mu, S_inv, PDE_vector, k_vect)\n",
        "\n",
        "    x0 = nufft.clone()\n",
        "    inv = conjugate_gradient(A_funct, nufft, x0, tol=threshold)\n",
        "    print(\"Error CG \", torch.linalg.norm(A_funct(inv) - nufft))\n",
        "    return S_inv * inv"
      ],
      "metadata": {
        "id": "4g9m-HP8s9ao"
      },
      "execution_count": 24,
      "outputs": []
    },
    {
      "cell_type": "code",
      "source": [
        "err_N_PIKL, list_N_PIKL = np.array([]), np.array([])\n",
        "\n",
        "for i in range(1, 17):\n",
        "  N = int(10**(i/2))\n",
        "  threshold = 10e-15\n",
        "  x_gpu =  cp.random.uniform(size=N).astype(cp.float64)\n",
        "  y_gpu =  cp.exp(x_gpu).astype(cp.complex128) + cp.random.normal(size=N).astype(cp.complex128)\n",
        "\n",
        "\n",
        "  s,d = 1,1\n",
        "  lambda_n=1/N/10#N**(-(2*s)/(2*s+d))\n",
        "  mu = 1\n",
        "  m = int(N**(1/(2*s+d))) #int(np.sqrt(N))\n",
        "\n",
        "  S_inv = S_vect_inv(m, s)\n",
        "\n",
        "  cov_y = S_inv*NUFFT_Y(x_gpu, y_gpu, m, threshold)\n",
        "  hat_theta = FFT_inv_PIKL(x_gpu, cov_y, m, lambda_n, mu, threshold)\n",
        "\n",
        "  N_test = 10**4\n",
        "  x_test = cp.random.uniform(size=N_test).astype(cp.float64)\n",
        "  y_test = cp.exp(x_test).astype(cp.complex128)\n",
        "\n",
        "  estimator = torch.real(NUFFT_inv(x_test, hat_theta, m, threshold))\n",
        "\n",
        "  error = torch.real(estimator.cpu()) - torch.tensor(y_test.get(), dtype=torch.float64)\n",
        "  mse = torch.mean(torch.square(torch.abs(error)))\n",
        "\n",
        "  list_N_PIKL = np.append(list_N_PIKL, N)\n",
        "  err_N_PIKL = np.append(err_N_PIKL, mse)"
      ],
      "metadata": {
        "colab": {
          "base_uri": "https://localhost:8080/"
        },
        "id": "AHNwhC6JtAU9",
        "outputId": "a5954b9a-3525-418d-fcfa-583b6906d90e"
      },
      "execution_count": 25,
      "outputs": [
        {
          "output_type": "stream",
          "name": "stdout",
          "text": [
            "Error CG  tensor(2.7402e-13, device='cuda:0')\n",
            "Error CG  tensor(1.3448e-08, device='cuda:0')\n",
            "Error CG  tensor(2.1695e-10, device='cuda:0')\n",
            "Error CG  tensor(2.3073e-09, device='cuda:0')\n",
            "Error CG  tensor(2.5786e-10, device='cuda:0')\n",
            "Error CG  tensor(8.8284e-12, device='cuda:0')\n",
            "CG converged in 28 iterations.\n",
            "Error CG  tensor(6.3457e-15, device='cuda:0')\n",
            "CG converged in 37 iterations.\n",
            "Error CG  tensor(5.8461e-15, device='cuda:0')\n",
            "Error CG  tensor(3.3487e-12, device='cuda:0')\n",
            "CG converged in 76 iterations.\n",
            "Error CG  tensor(5.4202e-15, device='cuda:0')\n",
            "CG converged in 98 iterations.\n",
            "Error CG  tensor(4.4560e-15, device='cuda:0')\n",
            "CG converged in 128 iterations.\n",
            "Error CG  tensor(4.3323e-15, device='cuda:0')\n",
            "CG converged in 167 iterations.\n",
            "Error CG  tensor(7.5175e-15, device='cuda:0')\n",
            "CG converged in 207 iterations.\n",
            "Error CG  tensor(1.2076e-14, device='cuda:0')\n",
            "CG converged in 356 iterations.\n",
            "Error CG  tensor(1.0822e-14, device='cuda:0')\n",
            "CG converged in 422 iterations.\n",
            "Error CG  tensor(8.4297e-15, device='cuda:0')\n"
          ]
        }
      ]
    },
    {
      "cell_type": "code",
      "source": [
        "import matplotlib.pyplot as plt\n",
        "\n",
        "plt.scatter(list_N, err_N, label=\"Sobolev\")\n",
        "plt.scatter(list_N_PIKL, err_N_PIKL, label=\"PIKL\")\n",
        "plt.xscale('log')\n",
        "plt.yscale('log')\n",
        "plt.xlabel(\"Number of points\")\n",
        "plt.ylabel(\"MSE\")\n",
        "plt.legend()"
      ],
      "metadata": {
        "colab": {
          "base_uri": "https://localhost:8080/",
          "height": 472
        },
        "id": "k--j6SbgtCcn",
        "outputId": "98c0751d-2bc1-46fc-f36a-88e1803c1dcb"
      },
      "execution_count": 26,
      "outputs": [
        {
          "output_type": "execute_result",
          "data": {
            "text/plain": [
              "<matplotlib.legend.Legend at 0x7f963afb6810>"
            ]
          },
          "metadata": {},
          "execution_count": 26
        },
        {
          "output_type": "display_data",
          "data": {
            "text/plain": [
              "<Figure size 640x480 with 1 Axes>"
            ],
            "image/png": "[encoded data removed]"
          },
          "metadata": {}
        }
      ]
    }
  ]
}