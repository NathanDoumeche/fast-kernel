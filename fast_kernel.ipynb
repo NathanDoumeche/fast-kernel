{
  "nbformat": 4,
  "nbformat_minor": 0,
  "metadata": {
    "colab": {
      "provenance": [],
      "gpuType": "T4",
      "authorship_tag": "ABX9TyOO2DS1vlAWPXdzlSz1xUhX",
      "include_colab_link": true
    },
    "kernelspec": {
      "name": "python3",
      "display_name": "Python 3"
    },
    "language_info": {
      "name": "python"
    },
    "accelerator": "GPU"
  },
  "cells": [
    {
      "cell_type": "markdown",
      "metadata": {
        "id": "view-in-github",
        "colab_type": "text"
      },
      "source": [
        "<a href=\"https://colab.research.google.com/github/NathanDoumeche/fast-kernel/blob/main/fast_kernel.ipynb\" target=\"_parent\"><img src=\"https://colab.research.google.com/assets/colab-badge.svg\" alt=\"Open In Colab\"/></a>"
      ]
    },
    {
      "cell_type": "code",
      "execution_count": 1,
      "metadata": {
        "colab": {
          "base_uri": "https://localhost:8080/"
        },
        "id": "a1qoNaLmsSxb",
        "outputId": "05c5bf83-21ff-4eb5-e944-43137ac85ca5"
      },
      "outputs": [
        {
          "output_type": "stream",
          "name": "stdout",
          "text": [
            "Collecting cufinufft==2.2\n",
            "  Downloading cufinufft-2.2.0-cp311-cp311-manylinux_2_17_x86_64.manylinux2014_x86_64.whl.metadata (2.2 kB)\n",
            "Requirement already satisfied: numpy in /usr/local/lib/python3.11/dist-packages (from cufinufft==2.2) (2.0.2)\n",
            "Requirement already satisfied: six in /usr/local/lib/python3.11/dist-packages (from cufinufft==2.2) (1.17.0)\n",
            "Downloading cufinufft-2.2.0-cp311-cp311-manylinux_2_17_x86_64.manylinux2014_x86_64.whl (154.3 MB)\n",
            "\u001b[2K   \u001b[90m━━━━━━━━━━━━━━━━━━━━━━━━━━━━━━━━━━━━━━━━\u001b[0m \u001b[32m154.3/154.3 MB\u001b[0m \u001b[31m2.0 MB/s\u001b[0m eta \u001b[36m0:00:00\u001b[0m\n",
            "\u001b[?25hInstalling collected packages: cufinufft\n",
            "Successfully installed cufinufft-2.2.0\n"
          ]
        }
      ],
      "source": [
        "pip install cufinufft==2.2"
      ]
    },
    {
      "cell_type": "code",
      "source": [
        "import torch\n",
        "import cupy as cp\n",
        "import cufinufft\n",
        "import numpy as np\n"
      ],
      "metadata": {
        "id": "l2xwWFw2sqz2"
      },
      "execution_count": 2,
      "outputs": []
    },
    {
      "cell_type": "code",
      "source": [
        "device = torch.device(\"cuda:0\")\n",
        "torch.set_default_dtype(torch.float64)"
      ],
      "metadata": {
        "id": "a6ZJCTKftVzf"
      },
      "execution_count": 3,
      "outputs": []
    },
    {
      "cell_type": "markdown",
      "source": [
        "# 1- Sobolev regression"
      ],
      "metadata": {
        "id": "aLqxeVA3sflY"
      }
    },
    {
      "cell_type": "code",
      "source": [
        "def conjugate_gradient(A_function, b, x0, tol=1e-10):\n",
        "    \"\"\"\n",
        "    Solves Ax = b using the Conjugate Gradient method.\n",
        "\n",
        "    Parameters:\n",
        "        A : function or matrix\n",
        "            Matrix or function that computes the product Ax.\n",
        "        b : ndarray\n",
        "            Right-hand side vector.\n",
        "        x0 : ndarray\n",
        "            Initial guess.\n",
        "        tol : float\n",
        "            Tolerance for the stopping criterion.\n",
        "        max_iter : int\n",
        "            Maximum number of iterations.\n",
        "\n",
        "    Returns:\n",
        "        x : ndarray\n",
        "            Approximate solution to Ax = b.\n",
        "    \"\"\"\n",
        "    m = b.shape[0]\n",
        "\n",
        "    x = x0\n",
        "    r = b - A_function(x)\n",
        "    p = r.clone()\n",
        "    rs_old = torch.linalg.vector_norm(r)**2\n",
        "\n",
        "    for i in range(m):\n",
        "        Ap = A_function(p)\n",
        "        alpha = rs_old / torch.vdot(p, Ap)\n",
        "        x = x + alpha * p\n",
        "        r = r - alpha * Ap\n",
        "        rs_new = torch.linalg.vector_norm(r)**2\n",
        "\n",
        "        if torch.sqrt(rs_new) < tol:\n",
        "            print(f\"CG converged in {i} iterations.\")\n",
        "            break\n",
        "        p = r + (rs_new / rs_old) * p\n",
        "        rs_old = rs_new\n",
        "\n",
        "    return x"
      ],
      "metadata": {
        "id": "qYt87-RBsYlg"
      },
      "execution_count": 4,
      "outputs": []
    },
    {
      "cell_type": "code",
      "source": [
        "def circulant_col(toeplitz_col, device):\n",
        "\n",
        "  n = toeplitz_col.shape[0]\n",
        "\n",
        "  # Create Hermitian-symmetric circulant embedding\n",
        "\n",
        "  circulant_vector = torch.concatenate([\n",
        "      toeplitz_col,\n",
        "      torch.zeros(n-1, device=device),\n",
        "      torch.conj(torch.flip(toeplitz_col[1:], (0,)))\n",
        "  ])\n",
        "  return circulant_vector, n\n",
        "\n",
        "def fast_hermitian_toeplitz_mv(circulant, n, x, device):\n",
        "    # Zero-pad x\n",
        "    x_padded = torch.concatenate([x, torch.zeros(2 * n-2 , device=device)])\n",
        "\n",
        "    # FFT-based convolution (complex)\n",
        "    fft_c = torch.fft.fft(circulant)\n",
        "    fft_x = torch.fft.fft(x_padded)\n",
        "\n",
        "    y = torch.fft.ifft(fft_c * fft_x)[:n]\n",
        "\n",
        "    return y  # complex-valued result"
      ],
      "metadata": {
        "id": "2JD1n4gCskjx"
      },
      "execution_count": 5,
      "outputs": []
    },
    {
      "cell_type": "code",
      "source": [
        "def kernel_vect(x_gpu, N, threshold):\n",
        "  n = x_gpu.shape[0]\n",
        "  y_gpu = cp.ones(n).astype(cp.complex128)\n",
        "\n",
        "  f_gpu = cufinufft.nufft1d1(x_gpu, y_gpu, (2*N,), eps=threshold)[N:]/n\n",
        "  f_tensor = torch.utils.dlpack.from_dlpack(f_gpu)\n",
        "\n",
        "  circulant, n = circulant_col(f_tensor, device)\n",
        "  return circulant"
      ],
      "metadata": {
        "id": "yr2t_fyssmhw"
      },
      "execution_count": 6,
      "outputs": []
    },
    {
      "cell_type": "code",
      "source": [
        "def S_vect_inv(m, s):\n",
        "  frequencies =  torch.arange(-m, m+1, device=device)\n",
        "  return 1/(1 + torch.abs(frequencies)**s)\n",
        "\n",
        "def A_function(x, lambda_n, S_inv, k_circ):\n",
        "  n = x.shape[0]\n",
        "  kernel_term = S_inv* fast_hermitian_toeplitz_mv(k_circ, n, S_inv * x, device)\n",
        "  return kernel_term + lambda_n * x"
      ],
      "metadata": {
        "id": "ajXGZW-wsvUb"
      },
      "execution_count": 7,
      "outputs": []
    },
    {
      "cell_type": "code",
      "source": [
        "def NUFFT_Y(x_gpu, y_gpu, m, threshold):\n",
        "  n = x_gpu.shape[0]\n",
        "\n",
        "  f_gpu = cufinufft.nufft1d1(x_gpu, y_gpu, (2*m+1,), eps=threshold)/n\n",
        "\n",
        "  f_tensor = torch.utils.dlpack.from_dlpack(f_gpu)\n",
        "\n",
        "  return f_tensor"
      ],
      "metadata": {
        "id": "365v6aiAsvtO"
      },
      "execution_count": 8,
      "outputs": []
    },
    {
      "cell_type": "code",
      "source": [
        "def FFT_inv(x_gpu, nufft, m, lambda_n, threshold):\n",
        "    k_vect = kernel_vect(x_gpu, 2*m+1, threshold)\n",
        "    S_inv = S_vect_inv(m, s)\n",
        "    A_funct = lambda x: A_function(x, lambda_n, S_inv, k_vect)\n",
        "\n",
        "    x0 = nufft.clone()\n",
        "    inv = conjugate_gradient(A_funct, nufft, x0, tol=threshold)\n",
        "    print(\"Error CG \", torch.linalg.norm(A_funct(inv) - nufft))\n",
        "    return S_inv * inv"
      ],
      "metadata": {
        "id": "V97AFeLAsxXC"
      },
      "execution_count": 9,
      "outputs": []
    },
    {
      "cell_type": "code",
      "source": [
        "def NUFFT_inv(x_gpu, f_gpu, N, threshold):\n",
        "  n = x_gpu.shape[0]\n",
        "\n",
        "  y_estimated = cufinufft.nufft1d2(x_gpu, f_gpu, eps=threshold)\n",
        "\n",
        "  y_estimated = torch.utils.dlpack.from_dlpack(y_estimated)\n",
        "\n",
        "  return y_estimated"
      ],
      "metadata": {
        "id": "FyXeMUsAszFS"
      },
      "execution_count": 10,
      "outputs": []
    },
    {
      "cell_type": "code",
      "source": [
        "err_N, list_N = np.array([]), np.array([])\n",
        "\n",
        "for i in range(1, 17):\n",
        "  N = int(10**(i/2))\n",
        "  threshold = 10e-15\n",
        "  x_gpu =  cp.random.uniform(size=N).astype(cp.float64)\n",
        "  y_gpu =  cp.exp(x_gpu).astype(cp.complex128) + cp.random.normal(size=N).astype(cp.complex128)\n",
        "\n",
        "\n",
        "  s,d = 1,1\n",
        "  lambda_n=N**(-(2*s)/(2*s+d))\n",
        "  m = int(N**(1/(2*s+d))) #int(np.sqrt(N))\n",
        "\n",
        "  S_inv = S_vect_inv(m, s)\n",
        "\n",
        "  cov_y = S_inv*NUFFT_Y(x_gpu, y_gpu, m, threshold)\n",
        "  hat_theta = FFT_inv(x_gpu, cov_y, m, lambda_n, threshold)\n",
        "\n",
        "  N_test = 10**4\n",
        "  x_test = cp.random.uniform(size=N_test).astype(cp.float64)\n",
        "  y_test = cp.exp(x_test).astype(cp.complex128)\n",
        "\n",
        "  estimator = torch.real(NUFFT_inv(x_test, hat_theta, m, threshold))\n",
        "\n",
        "  error = torch.real(estimator.cpu()) - torch.tensor(y_test.get(), dtype=torch.float64)\n",
        "  mse = torch.mean(torch.square(torch.abs(error)))\n",
        "\n",
        "  list_N = np.append(list_N, N)\n",
        "  err_N = np.append(err_N, mse)\n"
      ],
      "metadata": {
        "colab": {
          "base_uri": "https://localhost:8080/"
        },
        "id": "v7nOaF3js0h2",
        "outputId": "fa9e51c5-e23a-45a5-c198-747eb7fa7471"
      },
      "execution_count": 34,
      "outputs": [
        {
          "output_type": "stream",
          "name": "stdout",
          "text": [
            "CG converged in 2 iterations.\n",
            "Error CG  tensor(3.8205e-15, device='cuda:0')\n",
            "Error CG  tensor(3.0652e-13, device='cuda:0')\n",
            "CG converged in 6 iterations.\n",
            "Error CG  tensor(7.9118e-16, device='cuda:0')\n",
            "CG converged in 6 iterations.\n",
            "Error CG  tensor(3.4881e-15, device='cuda:0')\n",
            "CG converged in 8 iterations.\n",
            "Error CG  tensor(1.3953e-15, device='cuda:0')\n",
            "CG converged in 9 iterations.\n",
            "Error CG  tensor(3.2697e-15, device='cuda:0')\n",
            "CG converged in 14 iterations.\n",
            "Error CG  tensor(5.8853e-16, device='cuda:0')\n",
            "CG converged in 17 iterations.\n",
            "Error CG  tensor(4.3631e-15, device='cuda:0')\n",
            "CG converged in 24 iterations.\n",
            "Error CG  tensor(1.0523e-15, device='cuda:0')\n",
            "CG converged in 35 iterations.\n",
            "Error CG  tensor(2.6564e-15, device='cuda:0')\n",
            "CG converged in 50 iterations.\n",
            "Error CG  tensor(8.4324e-16, device='cuda:0')\n",
            "CG converged in 76 iterations.\n",
            "Error CG  tensor(6.0726e-15, device='cuda:0')\n",
            "CG converged in 117 iterations.\n",
            "Error CG  tensor(2.7115e-15, device='cuda:0')\n",
            "CG converged in 165 iterations.\n",
            "Error CG  tensor(5.2543e-15, device='cuda:0')\n",
            "CG converged in 230 iterations.\n",
            "Error CG  tensor(3.8542e-15, device='cuda:0')\n",
            "CG converged in 314 iterations.\n",
            "Error CG  tensor(7.2387e-15, device='cuda:0')\n"
          ]
        }
      ]
    },
    {
      "cell_type": "code",
      "source": [
        "import matplotlib.pyplot as plt\n",
        "\n",
        "plt.scatter(list_N, err_N)\n",
        "plt.xscale('log')\n",
        "plt.yscale('log')\n",
        "plt.xlabel(\"Number of points\")\n",
        "plt.ylabel(\"MSE\")"
      ],
      "metadata": {
        "colab": {
          "base_uri": "https://localhost:8080/",
          "height": 472
        },
        "id": "KyUlM7WAs2vv",
        "outputId": "0bc31150-7a99-47e2-e73a-e310740b943f"
      },
      "execution_count": 35,
      "outputs": [
        {
          "output_type": "execute_result",
          "data": {
            "text/plain": [
              "Text(0, 0.5, 'MSE')"
            ]
          },
          "metadata": {},
          "execution_count": 35
        },
        {
          "output_type": "display_data",
          "data": {
            "text/plain": [
              "<Figure size 640x480 with 1 Axes>"
            ],
            "image/png": "[encoded data removed]"
          },
          "metadata": {}
        }
      ]
    },
    {
      "cell_type": "code",
      "source": [
        "import matplotlib.pyplot as plt\n",
        "\n",
        "plt.scatter(x_test.get(), y_test.get(), label=\"True\")\n",
        "plt.scatter(x_test.get(), estimator.cpu().numpy(), label=\"Estimated\")\n",
        "plt.legend()\n",
        "plt.show()"
      ],
      "metadata": {
        "colab": {
          "base_uri": "https://localhost:8080/",
          "height": 521
        },
        "id": "SnquWuY8s61K",
        "outputId": "9c12fce9-d617-4543-f8e1-c54f3daed3ce"
      },
      "execution_count": 23,
      "outputs": [
        {
          "output_type": "stream",
          "name": "stderr",
          "text": [
            "/usr/local/lib/python3.11/dist-packages/matplotlib/cbook.py:1709: ComplexWarning: Casting complex values to real discards the imaginary part\n",
            "  return math.isfinite(val)\n",
            "/usr/local/lib/python3.11/dist-packages/matplotlib/collections.py:200: ComplexWarning: Casting complex values to real discards the imaginary part\n",
            "  offsets = np.asanyarray(offsets, float)\n"
          ]
        },
        {
          "output_type": "display_data",
          "data": {
            "text/plain": [
              "<Figure size 640x480 with 1 Axes>"
            ],
            "image/png": "[encoded data removed]"
          },
          "metadata": {}
        }
      ]
    },
    {
      "cell_type": "markdown",
      "source": [
        "## 1.2- High values of n"
      ],
      "metadata": {
        "id": "OsdwOobXugmf"
      }
    },
    {
      "cell_type": "code",
      "source": [
        "def FFT_inv_k(k_vect, nufft, m, lambda_n, threshold):\n",
        "    S_inv = S_vect_inv(m, s)\n",
        "    A_funct = lambda x: A_function(x, lambda_n, S_inv, k_vect)\n",
        "\n",
        "    x0 = nufft.clone()\n",
        "    inv = conjugate_gradient(A_funct, nufft, x0, tol=threshold)\n",
        "    print(\"Error CG \", torch.linalg.norm(A_funct(inv) - nufft))\n",
        "    return S_inv * inv"
      ],
      "metadata": {
        "id": "ZezcIndrxKpH"
      },
      "execution_count": 36,
      "outputs": []
    },
    {
      "cell_type": "code",
      "source": [
        "N_batch = 10**8\n",
        "\n",
        "for iterations in [3, 10, 30, 100]:\n",
        "  N_tot = N_batch*iterations\n",
        "\n",
        "  threshold = 10e-15\n",
        "  s,d = 1,1\n",
        "  lambda_n=N_tot**(-(2*s)/(2*s+d))\n",
        "  m = int(N_tot**(1/(2*s+d)))\n",
        "\n",
        "  cov_y = torch.zeros(2*m+1, device=device)*(1.+0*1j)\n",
        "\n",
        "  for i in range(iterations):\n",
        "\n",
        "    x_gpu =  cp.random.uniform(size=N_batch).astype(cp.float64)\n",
        "    y_gpu =  cp.exp(x_gpu).astype(cp.complex128) + cp.random.normal(size=N_batch).astype(cp.complex128)\n",
        "\n",
        "    S_inv = S_vect_inv(m, s)\n",
        "\n",
        "    cov_y += S_inv*NUFFT_Y(x_gpu, y_gpu, m, threshold)\n",
        "\n",
        "    if i==0:\n",
        "      k_vect = kernel_vect(x_gpu, 2*m+1, threshold)\n",
        "    else:\n",
        "      k_vect += kernel_vect(x_gpu, 2*m+1, threshold)\n",
        "\n",
        "    print(\"Batch \", i, \"/\", iterations)\n",
        "\n",
        "  cov_y /= iterations\n",
        "  k_vect /= iterations\n",
        "\n",
        "  hat_theta = FFT_inv_k(k_vect, cov_y, m, lambda_n, threshold)\n",
        "\n",
        "  N_test = 10**4\n",
        "  x_test = cp.random.uniform(size=N_test).astype(cp.float64)\n",
        "  y_test = cp.exp(x_test).astype(cp.complex128)\n",
        "\n",
        "  estimator = torch.real(NUFFT_inv(x_test, hat_theta, m, threshold))\n",
        "\n",
        "  error = torch.real(estimator.cpu()) - torch.tensor(y_test.get(), dtype=torch.float64)\n",
        "  mse = torch.mean(torch.square(torch.abs(error)))\n",
        "\n",
        "  list_N = np.append(list_N, N_tot)\n",
        "  err_N = np.append(err_N, mse)\n"
      ],
      "metadata": {
        "colab": {
          "base_uri": "https://localhost:8080/"
        },
        "id": "iQLJQDCful3z",
        "outputId": "7ef164a7-0873-48eb-8cf6-79a41f250404"
      },
      "execution_count": 37,
      "outputs": [
        {
          "output_type": "stream",
          "name": "stdout",
          "text": [
            "Batch  0 / 3\n",
            "Batch  1 / 3\n",
            "Batch  2 / 3\n",
            "CG converged in 442 iterations.\n",
            "Error CG  tensor(9.0348e-15, device='cuda:0')\n",
            "Batch  0 / 10\n",
            "Batch  1 / 10\n",
            "Batch  2 / 10\n",
            "Batch  3 / 10\n",
            "Batch  4 / 10\n",
            "Batch  5 / 10\n",
            "Batch  6 / 10\n",
            "Batch  7 / 10\n",
            "Batch  8 / 10\n",
            "Batch  9 / 10\n",
            "CG converged in 649 iterations.\n",
            "Error CG  tensor(8.2268e-15, device='cuda:0')\n",
            "Batch  0 / 30\n",
            "Batch  1 / 30\n",
            "Batch  2 / 30\n",
            "Batch  3 / 30\n",
            "Batch  4 / 30\n",
            "Batch  5 / 30\n",
            "Batch  6 / 30\n",
            "Batch  7 / 30\n",
            "Batch  8 / 30\n",
            "Batch  9 / 30\n",
            "Batch  10 / 30\n",
            "Batch  11 / 30\n",
            "Batch  12 / 30\n",
            "Batch  13 / 30\n",
            "Batch  14 / 30\n",
            "Batch  15 / 30\n",
            "Batch  16 / 30\n",
            "Batch  17 / 30\n",
            "Batch  18 / 30\n",
            "Batch  19 / 30\n",
            "Batch  20 / 30\n",
            "Batch  21 / 30\n",
            "Batch  22 / 30\n",
            "Batch  23 / 30\n",
            "Batch  24 / 30\n",
            "Batch  25 / 30\n",
            "Batch  26 / 30\n",
            "Batch  27 / 30\n",
            "Batch  28 / 30\n",
            "Batch  29 / 30\n",
            "CG converged in 961 iterations.\n",
            "Error CG  tensor(9.0519e-15, device='cuda:0')\n",
            "Batch  0 / 100\n",
            "Batch  1 / 100\n",
            "Batch  2 / 100\n",
            "Batch  3 / 100\n",
            "Batch  4 / 100\n",
            "Batch  5 / 100\n",
            "Batch  6 / 100\n",
            "Batch  7 / 100\n",
            "Batch  8 / 100\n",
            "Batch  9 / 100\n",
            "Batch  10 / 100\n",
            "Batch  11 / 100\n",
            "Batch  12 / 100\n",
            "Batch  13 / 100\n",
            "Batch  14 / 100\n",
            "Batch  15 / 100\n",
            "Batch  16 / 100\n",
            "Batch  17 / 100\n",
            "Batch  18 / 100\n",
            "Batch  19 / 100\n",
            "Batch  20 / 100\n",
            "Batch  21 / 100\n",
            "Batch  22 / 100\n",
            "Batch  23 / 100\n",
            "Batch  24 / 100\n",
            "Batch  25 / 100\n",
            "Batch  26 / 100\n",
            "Batch  27 / 100\n",
            "Batch  28 / 100\n",
            "Batch  29 / 100\n",
            "Batch  30 / 100\n",
            "Batch  31 / 100\n",
            "Batch  32 / 100\n",
            "Batch  33 / 100\n",
            "Batch  34 / 100\n",
            "Batch  35 / 100\n",
            "Batch  36 / 100\n",
            "Batch  37 / 100\n",
            "Batch  38 / 100\n",
            "Batch  39 / 100\n",
            "Batch  40 / 100\n",
            "Batch  41 / 100\n",
            "Batch  42 / 100\n",
            "Batch  43 / 100\n",
            "Batch  44 / 100\n",
            "Batch  45 / 100\n",
            "Batch  46 / 100\n",
            "Batch  47 / 100\n",
            "Batch  48 / 100\n",
            "Batch  49 / 100\n",
            "Batch  50 / 100\n",
            "Batch  51 / 100\n",
            "Batch  52 / 100\n",
            "Batch  53 / 100\n",
            "Batch  54 / 100\n",
            "Batch  55 / 100\n",
            "Batch  56 / 100\n",
            "Batch  57 / 100\n",
            "Batch  58 / 100\n",
            "Batch  59 / 100\n",
            "Batch  60 / 100\n",
            "Batch  61 / 100\n",
            "Batch  62 / 100\n",
            "Batch  63 / 100\n",
            "Batch  64 / 100\n",
            "Batch  65 / 100\n",
            "Batch  66 / 100\n",
            "Batch  67 / 100\n",
            "Batch  68 / 100\n",
            "Batch  69 / 100\n",
            "Batch  70 / 100\n",
            "Batch  71 / 100\n",
            "Batch  72 / 100\n",
            "Batch  73 / 100\n",
            "Batch  74 / 100\n",
            "Batch  75 / 100\n",
            "Batch  76 / 100\n",
            "Batch  77 / 100\n",
            "Batch  78 / 100\n",
            "Batch  79 / 100\n",
            "Batch  80 / 100\n",
            "Batch  81 / 100\n",
            "Batch  82 / 100\n",
            "Batch  83 / 100\n",
            "Batch  84 / 100\n",
            "Batch  85 / 100\n",
            "Batch  86 / 100\n",
            "Batch  87 / 100\n",
            "Batch  88 / 100\n",
            "Batch  89 / 100\n",
            "Batch  90 / 100\n",
            "Batch  91 / 100\n",
            "Batch  92 / 100\n",
            "Batch  93 / 100\n",
            "Batch  94 / 100\n",
            "Batch  95 / 100\n",
            "Batch  96 / 100\n",
            "Batch  97 / 100\n",
            "Batch  98 / 100\n",
            "Batch  99 / 100\n",
            "CG converged in 1270 iterations.\n",
            "Error CG  tensor(8.7632e-15, device='cuda:0')\n"
          ]
        }
      ]
    },
    {
      "cell_type": "code",
      "source": [
        "import matplotlib.pyplot as plt\n",
        "\n",
        "plt.scatter(list_N, err_N)\n",
        "plt.xscale('log')\n",
        "plt.yscale('log')\n",
        "plt.xlabel(\"Number of points\")\n",
        "plt.ylabel(\"MSE\")"
      ],
      "metadata": {
        "colab": {
          "base_uri": "https://localhost:8080/",
          "height": 472
        },
        "id": "P3rGCcuMy9DO",
        "outputId": "a66a0371-a522-46f4-bac5-164a6dcb11ae"
      },
      "execution_count": 38,
      "outputs": [
        {
          "output_type": "execute_result",
          "data": {
            "text/plain": [
              "Text(0, 0.5, 'MSE')"
            ]
          },
          "metadata": {},
          "execution_count": 38
        },
        {
          "output_type": "display_data",
          "data": {
            "text/plain": [
              "<Figure size 640x480 with 1 Axes>"
            ],
            "image/png": "[encoded data removed]"
          },
          "metadata": {}
        }
      ]
    },
    {
      "cell_type": "markdown",
      "source": [
        "# 2- PIKL"
      ],
      "metadata": {
        "id": "zdMm0kcxs8gK"
      }
    },
    {
      "cell_type": "code",
      "source": [
        "def PDE_vect(m):\n",
        "  frequencies =  torch.arange(-m, m+1, device=device)\n",
        "  return 1 + 1j*frequencies\n",
        "\n",
        "def A_function_PIKL(x, lambda_n, mu, S_inv, PDE_vector, k_circ):\n",
        "  n = x.shape[0]\n",
        "  kernel_term = S_inv* fast_hermitian_toeplitz_mv(k_circ, n, S_inv * x, device)\n",
        "  PDE_term = torch.conj_physical(PDE_vector)*S_inv* fast_hermitian_toeplitz_mv(k_circ, n, PDE_vector*S_inv * x, device)\n",
        "  return kernel_term + lambda_n * x + mu * PDE_term\n",
        "\n",
        "def FFT_inv_PIKL(x_gpu, nufft, m, lambda_n, mu, threshold):\n",
        "    k_vect = kernel_vect(x_gpu, 2*m+1, threshold)\n",
        "    S_inv = S_vect_inv(m, s)\n",
        "    PDE_vector = PDE_vect(m)\n",
        "    A_funct = lambda x: A_function_PIKL(x, lambda_n, mu, S_inv, PDE_vector, k_vect)\n",
        "\n",
        "    x0 = nufft.clone()\n",
        "    inv = conjugate_gradient(A_funct, nufft, x0, tol=threshold)\n",
        "    print(\"Error CG \", torch.linalg.norm(A_funct(inv) - nufft))\n",
        "    return S_inv * inv"
      ],
      "metadata": {
        "id": "4g9m-HP8s9ao"
      },
      "execution_count": 24,
      "outputs": []
    },
    {
      "cell_type": "code",
      "source": [
        "err_N_PIKL, list_N_PIKL = np.array([]), np.array([])\n",
        "\n",
        "for i in range(1, 17):\n",
        "  N = int(10**(i/2))\n",
        "  threshold = 10e-15\n",
        "  x_gpu =  cp.random.uniform(size=N).astype(cp.float64)\n",
        "  y_gpu =  cp.exp(x_gpu).astype(cp.complex128) + cp.random.normal(size=N).astype(cp.complex128)\n",
        "\n",
        "\n",
        "  s,d = 1,1\n",
        "  lambda_n=1/N/10#N**(-(2*s)/(2*s+d))\n",
        "  mu = 1\n",
        "  m = int(N**(1/(2*s+d))) #int(np.sqrt(N))\n",
        "\n",
        "  S_inv = S_vect_inv(m, s)\n",
        "\n",
        "  cov_y = S_inv*NUFFT_Y(x_gpu, y_gpu, m, threshold)\n",
        "  hat_theta = FFT_inv_PIKL(x_gpu, cov_y, m, lambda_n, mu, threshold)\n",
        "\n",
        "  N_test = 10**4\n",
        "  x_test = cp.random.uniform(size=N_test).astype(cp.float64)\n",
        "  y_test = cp.exp(x_test).astype(cp.complex128)\n",
        "\n",
        "  estimator = torch.real(NUFFT_inv(x_test, hat_theta, m, threshold))\n",
        "\n",
        "  error = torch.real(estimator.cpu()) - torch.tensor(y_test.get(), dtype=torch.float64)\n",
        "  mse = torch.mean(torch.square(torch.abs(error)))\n",
        "\n",
        "  list_N_PIKL = np.append(list_N_PIKL, N)\n",
        "  err_N_PIKL = np.append(err_N_PIKL, mse)"
      ],
      "metadata": {
        "colab": {
          "base_uri": "https://localhost:8080/"
        },
        "id": "AHNwhC6JtAU9",
        "outputId": "a5954b9a-3525-418d-fcfa-583b6906d90e"
      },
      "execution_count": 25,
      "outputs": [
        {
          "output_type": "stream",
          "name": "stdout",
          "text": [
            "Error CG  tensor(2.7402e-13, device='cuda:0')\n",
            "Error CG  tensor(1.3448e-08, device='cuda:0')\n",
            "Error CG  tensor(2.1695e-10, device='cuda:0')\n",
            "Error CG  tensor(2.3073e-09, device='cuda:0')\n",
            "Error CG  tensor(2.5786e-10, device='cuda:0')\n",
            "Error CG  tensor(8.8284e-12, device='cuda:0')\n",
            "CG converged in 28 iterations.\n",
            "Error CG  tensor(6.3457e-15, device='cuda:0')\n",
            "CG converged in 37 iterations.\n",
            "Error CG  tensor(5.8461e-15, device='cuda:0')\n",
            "Error CG  tensor(3.3487e-12, device='cuda:0')\n",
            "CG converged in 76 iterations.\n",
            "Error CG  tensor(5.4202e-15, device='cuda:0')\n",
            "CG converged in 98 iterations.\n",
            "Error CG  tensor(4.4560e-15, device='cuda:0')\n",
            "CG converged in 128 iterations.\n",
            "Error CG  tensor(4.3323e-15, device='cuda:0')\n",
            "CG converged in 167 iterations.\n",
            "Error CG  tensor(7.5175e-15, device='cuda:0')\n",
            "CG converged in 207 iterations.\n",
            "Error CG  tensor(1.2076e-14, device='cuda:0')\n",
            "CG converged in 356 iterations.\n",
            "Error CG  tensor(1.0822e-14, device='cuda:0')\n",
            "CG converged in 422 iterations.\n",
            "Error CG  tensor(8.4297e-15, device='cuda:0')\n"
          ]
        }
      ]
    },
    {
      "cell_type": "code",
      "source": [
        "import matplotlib.pyplot as plt\n",
        "\n",
        "plt.scatter(list_N, err_N, label=\"Sobolev\")\n",
        "plt.scatter(list_N_PIKL, err_N_PIKL, label=\"PIKL\")\n",
        "plt.xscale('log')\n",
        "plt.yscale('log')\n",
        "plt.xlabel(\"Number of points\")\n",
        "plt.ylabel(\"MSE\")\n",
        "plt.legend()"
      ],
      "metadata": {
        "colab": {
          "base_uri": "https://localhost:8080/",
          "height": 472
        },
        "id": "k--j6SbgtCcn",
        "outputId": "98c0751d-2bc1-46fc-f36a-88e1803c1dcb"
      },
      "execution_count": 26,
      "outputs": [
        {
          "output_type": "execute_result",
          "data": {
            "text/plain": [
              "<matplotlib.legend.Legend at 0x7f963afb6810>"
            ]
          },
          "metadata": {},
          "execution_count": 26
        },
        {
          "output_type": "display_data",
          "data": {
            "text/plain": [
              "<Figure size 640x480 with 1 Axes>"
            ],
            "image/png": "[encoded data removed]"
          },
          "metadata": {}
        }
      ]
    }
  ]
}